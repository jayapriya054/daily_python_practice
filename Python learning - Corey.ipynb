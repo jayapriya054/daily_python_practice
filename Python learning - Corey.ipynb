{
 "cells": [
  {
   "cell_type": "markdown",
   "metadata": {},
   "source": [
    "# Lists,Tuples and Set"
   ]
  },
  {
   "cell_type": "code",
   "execution_count": 1,
   "metadata": {},
   "outputs": [],
   "source": [
    "course=['math','chemistry','physics','comp sci']"
   ]
  },
  {
   "cell_type": "code",
   "execution_count": 2,
   "metadata": {},
   "outputs": [
    {
     "name": "stdout",
     "output_type": "stream",
     "text": [
      "4\n"
     ]
    }
   ],
   "source": [
    "print(len(course))"
   ]
  },
  {
   "cell_type": "code",
   "execution_count": 3,
   "metadata": {
    "collapsed": true
   },
   "outputs": [],
   "source": [
    "course.append('Art')"
   ]
  },
  {
   "cell_type": "code",
   "execution_count": 4,
   "metadata": {},
   "outputs": [
    {
     "name": "stdout",
     "output_type": "stream",
     "text": [
      "['math', 'chemistry', 'physics', 'comp sci', 'Art']\n"
     ]
    }
   ],
   "source": [
    "print(course)"
   ]
  },
  {
   "cell_type": "code",
   "execution_count": 5,
   "metadata": {
    "collapsed": true
   },
   "outputs": [],
   "source": [
    "course.insert(0,'English')"
   ]
  },
  {
   "cell_type": "code",
   "execution_count": 6,
   "metadata": {},
   "outputs": [
    {
     "name": "stdout",
     "output_type": "stream",
     "text": [
      "['English', 'math', 'chemistry', 'physics', 'comp sci', 'Art']\n"
     ]
    }
   ],
   "source": [
    "print(course)"
   ]
  },
  {
   "cell_type": "code",
   "execution_count": 7,
   "metadata": {
    "collapsed": true
   },
   "outputs": [],
   "source": [
    "course_2=['Tamil','Games']"
   ]
  },
  {
   "cell_type": "markdown",
   "metadata": {},
   "source": [
    "To merge the the elements of another list to course list:"
   ]
  },
  {
   "cell_type": "code",
   "execution_count": 8,
   "metadata": {
    "collapsed": true
   },
   "outputs": [],
   "source": [
    "course.extend(course_2)"
   ]
  },
  {
   "cell_type": "code",
   "execution_count": 9,
   "metadata": {},
   "outputs": [
    {
     "data": {
      "text/plain": [
       "['English',\n",
       " 'math',\n",
       " 'chemistry',\n",
       " 'physics',\n",
       " 'comp sci',\n",
       " 'Art',\n",
       " 'Tamil',\n",
       " 'Games']"
      ]
     },
     "execution_count": 9,
     "metadata": {},
     "output_type": "execute_result"
    }
   ],
   "source": [
    "course"
   ]
  },
  {
   "cell_type": "code",
   "execution_count": 10,
   "metadata": {},
   "outputs": [
    {
     "data": {
      "text/plain": [
       "['English', 'math', 'chemistry', 'physics', 'comp sci', 'Tamil', 'Games']"
      ]
     },
     "execution_count": 10,
     "metadata": {},
     "output_type": "execute_result"
    }
   ],
   "source": [
    "course.remove('Art') \n",
    "course"
   ]
  },
  {
   "cell_type": "code",
   "execution_count": 11,
   "metadata": {},
   "outputs": [
    {
     "data": {
      "text/plain": [
       "['English', 'math', 'chemistry', 'physics', 'comp sci', 'Tamil']"
      ]
     },
     "execution_count": 11,
     "metadata": {},
     "output_type": "execute_result"
    }
   ],
   "source": [
    "course.pop() # removes the last element of the list\n",
    "course"
   ]
  },
  {
   "cell_type": "code",
   "execution_count": 12,
   "metadata": {},
   "outputs": [
    {
     "data": {
      "text/plain": [
       "['Tamil', 'comp sci', 'physics', 'chemistry', 'math', 'English']"
      ]
     },
     "execution_count": 12,
     "metadata": {},
     "output_type": "execute_result"
    }
   ],
   "source": [
    "course.reverse() \n",
    "course"
   ]
  },
  {
   "cell_type": "markdown",
   "metadata": {},
   "source": [
    "Sorting in ascending order:"
   ]
  },
  {
   "cell_type": "code",
   "execution_count": 13,
   "metadata": {},
   "outputs": [
    {
     "data": {
      "text/plain": [
       "['English', 'Tamil', 'chemistry', 'comp sci', 'math', 'physics']"
      ]
     },
     "execution_count": 13,
     "metadata": {},
     "output_type": "execute_result"
    }
   ],
   "source": [
    "course.sort() # This sorts the list in ascending alphebatic order\n",
    "course"
   ]
  },
  {
   "cell_type": "markdown",
   "metadata": {},
   "source": [
    "Sorting in descending order"
   ]
  },
  {
   "cell_type": "code",
   "execution_count": 14,
   "metadata": {},
   "outputs": [
    {
     "data": {
      "text/plain": [
       "['physics', 'math', 'comp sci', 'chemistry', 'Tamil', 'English']"
      ]
     },
     "execution_count": 14,
     "metadata": {},
     "output_type": "execute_result"
    }
   ],
   "source": [
    "course.sort(reverse=True) # This sorts the list in descending alphebatic order\n",
    "course"
   ]
  },
  {
   "cell_type": "markdown",
   "metadata": {},
   "source": [
    "The above sorting affects the original list directly!\n",
    "To get sorted the list without affecting the original list:"
   ]
  },
  {
   "cell_type": "code",
   "execution_count": 4,
   "metadata": {},
   "outputs": [
    {
     "name": "stdout",
     "output_type": "stream",
     "text": [
      "['chemistry', 'comp sci', 'math', 'physics']\n"
     ]
    }
   ],
   "source": [
    "desc_sort=sorted(course, reverse= True)\n",
    "asc_sort=sorted(course)\n",
    "print(asc_sort)"
   ]
  },
  {
   "cell_type": "markdown",
   "metadata": {},
   "source": [
    "to find the index of an element in a list:"
   ]
  },
  {
   "cell_type": "code",
   "execution_count": 50,
   "metadata": {},
   "outputs": [
    {
     "name": "stdout",
     "output_type": "stream",
     "text": [
      "2\n"
     ]
    }
   ],
   "source": [
    "comp_indx=course.index('comp sci')\n",
    "print(comp_indx)"
   ]
  },
  {
   "cell_type": "code",
   "execution_count": 51,
   "metadata": {},
   "outputs": [
    {
     "name": "stdout",
     "output_type": "stream",
     "text": [
      "physics\n",
      "math\n",
      "comp sci\n",
      "chemistry\n",
      "Tamil\n",
      "English\n"
     ]
    }
   ],
   "source": [
    "for item in course:\n",
    "    print(item)"
   ]
  },
  {
   "cell_type": "markdown",
   "metadata": {},
   "source": [
    "To get the items of the list along with index:"
   ]
  },
  {
   "cell_type": "code",
   "execution_count": 52,
   "metadata": {},
   "outputs": [
    {
     "name": "stdout",
     "output_type": "stream",
     "text": [
      "(0, 'physics')\n",
      "(1, 'math')\n",
      "(2, 'comp sci')\n",
      "(3, 'chemistry')\n",
      "(4, 'Tamil')\n",
      "(5, 'English')\n"
     ]
    }
   ],
   "source": [
    "for item in enumerate(course):\n",
    "    print(item)"
   ]
  },
  {
   "cell_type": "code",
   "execution_count": 53,
   "metadata": {},
   "outputs": [
    {
     "name": "stdout",
     "output_type": "stream",
     "text": [
      "0 physics\n",
      "1 math\n",
      "2 comp sci\n",
      "3 chemistry\n",
      "4 Tamil\n",
      "5 English\n"
     ]
    }
   ],
   "source": [
    "for ind,item in enumerate(course):\n",
    "    print(ind,item)"
   ]
  },
  {
   "cell_type": "code",
   "execution_count": 58,
   "metadata": {},
   "outputs": [
    {
     "name": "stdout",
     "output_type": "stream",
     "text": [
      "(1, 'physics')\n",
      "(2, 'math')\n",
      "(3, 'comp sci')\n",
      "(4, 'chemistry')\n",
      "(5, 'Tamil')\n",
      "(6, 'English')\n"
     ]
    }
   ],
   "source": [
    "for item in enumerate(course,start=1):\n",
    "    print(item)"
   ]
  },
  {
   "cell_type": "markdown",
   "metadata": {},
   "source": [
    "convert a list into strings with comma or anything specific to the need:"
   ]
  },
  {
   "cell_type": "code",
   "execution_count": 63,
   "metadata": {},
   "outputs": [
    {
     "data": {
      "text/plain": [
       "'physics, math, comp sci, chemistry, Tamil, English'"
      ]
     },
     "execution_count": 63,
     "metadata": {},
     "output_type": "execute_result"
    }
   ],
   "source": [
    "course_str=', '.join(course)\n",
    "course_str"
   ]
  },
  {
   "cell_type": "markdown",
   "metadata": {},
   "source": [
    "convrt a string into list wrt to any delimiter:\n",
    "    "
   ]
  },
  {
   "cell_type": "code",
   "execution_count": 64,
   "metadata": {},
   "outputs": [
    {
     "name": "stdout",
     "output_type": "stream",
     "text": [
      "['physics', 'math', 'comp sci', 'chemistry', 'Tamil', 'English']\n"
     ]
    }
   ],
   "source": [
    "new_list=course_str.split(', ')\n",
    "print(new_list)"
   ]
  },
  {
   "cell_type": "markdown",
   "metadata": {},
   "source": [
    "Tuples are similar to list but they are immutable"
   ]
  },
  {
   "cell_type": "markdown",
   "metadata": {},
   "source": [
    "Coming to sets..."
   ]
  },
  {
   "cell_type": "code",
   "execution_count": 68,
   "metadata": {},
   "outputs": [
    {
     "name": "stdout",
     "output_type": "stream",
     "text": [
      "{'Physics'}\n",
      "{'Math', 'chemsitry'}\n",
      "{'Math', 'Physics', 'soft skills', 'chemsitry', 'English'}\n"
     ]
    }
   ],
   "source": [
    "cs_course={'Math','Physics','chemsitry'}\n",
    "art_course={'English','soft skills','Physics'}\n",
    "print(cs_course.intersection(art_course))\n",
    "print(cs_course.difference(art_course))\n",
    "print(cs_course.union(art_course))"
   ]
  },
  {
   "cell_type": "code",
   "execution_count": 1,
   "metadata": {
    "collapsed": true
   },
   "outputs": [],
   "source": [
    "emp_list=[]\n",
    "emp_list=list()\n",
    "\n",
    "emp_tuple=()\n",
    "emp_tuple=tuple()\n",
    "\n",
    "emp_set={} # this is not right, this forms empty dictionary\n",
    "emp_set=set()\n"
   ]
  },
  {
   "cell_type": "markdown",
   "metadata": {},
   "source": [
    "You can unpack a sequence into different variables:"
   ]
  },
  {
   "cell_type": "code",
   "execution_count": 18,
   "metadata": {},
   "outputs": [
    {
     "name": "stdout",
     "output_type": "stream",
     "text": [
      "['Christopher', 'Brooks', 'brooksch@umich.edu']\n",
      "Christopher\n",
      "Brooks\n",
      "brooksch@umich.edu\n"
     ]
    }
   ],
   "source": [
    "x = ('Christopher', 'Brooks', 'brooksch@umich.edu')\n",
    "fname, lname, email = x\n",
    "y=[ele for ele in x] # convert a tuple to a another list variable using list comprehension.\n",
    "print(y)\n",
    "print(fname)\n",
    "print(lname)\n",
    "print(email)"
   ]
  },
  {
   "cell_type": "markdown",
   "metadata": {},
   "source": [
    "# Dictionary and its use cases"
   ]
  },
  {
   "cell_type": "code",
   "execution_count": 5,
   "metadata": {},
   "outputs": [
    {
     "name": "stdout",
     "output_type": "stream",
     "text": [
      "['math', 'science']\n"
     ]
    }
   ],
   "source": [
    "student={'name':'John','age':22,'courses':['math','science']}\n",
    "print(student['courses'])"
   ]
  },
  {
   "cell_type": "code",
   "execution_count": 24,
   "metadata": {},
   "outputs": [
    {
     "ename": "KeyError",
     "evalue": "'phone'",
     "output_type": "error",
     "traceback": [
      "\u001b[1;31m---------------------------------------------------------------------------\u001b[0m",
      "\u001b[1;31mKeyError\u001b[0m                                  Traceback (most recent call last)",
      "\u001b[1;32m<ipython-input-24-8c7c71f38dd6>\u001b[0m in \u001b[0;36m<module>\u001b[1;34m()\u001b[0m\n\u001b[1;32m----> 1\u001b[1;33m \u001b[0mprint\u001b[0m\u001b[1;33m(\u001b[0m\u001b[0mstudent\u001b[0m\u001b[1;33m[\u001b[0m\u001b[1;34m'phone'\u001b[0m\u001b[1;33m]\u001b[0m\u001b[1;33m)\u001b[0m\u001b[1;33m\u001b[0m\u001b[0m\n\u001b[0m",
      "\u001b[1;31mKeyError\u001b[0m: 'phone'"
     ]
    }
   ],
   "source": [
    "print(student['phone'])"
   ]
  },
  {
   "cell_type": "markdown",
   "metadata": {},
   "source": [
    "To ignore the key error"
   ]
  },
  {
   "cell_type": "code",
   "execution_count": 25,
   "metadata": {},
   "outputs": [
    {
     "name": "stdout",
     "output_type": "stream",
     "text": [
      "John\n",
      "Not Found\n"
     ]
    }
   ],
   "source": [
    "print(student.get('name','Not Found'))\n",
    "print(student.get('Phone','Not Found'))"
   ]
  },
  {
   "cell_type": "markdown",
   "metadata": {},
   "source": [
    "To add a new Key-Value Pair or update an existing key-value pair:"
   ]
  },
  {
   "cell_type": "code",
   "execution_count": 26,
   "metadata": {
    "collapsed": true
   },
   "outputs": [],
   "source": [
    "student['phone']='978685842'\n",
    "student['name']='Jane'"
   ]
  },
  {
   "cell_type": "code",
   "execution_count": 27,
   "metadata": {},
   "outputs": [
    {
     "name": "stdout",
     "output_type": "stream",
     "text": [
      "Jane\n",
      "978685842\n"
     ]
    }
   ],
   "source": [
    "print(student.get('name','Not Found'))\n",
    "print(student.get('phone','Not Found'))"
   ]
  },
  {
   "cell_type": "markdown",
   "metadata": {},
   "source": [
    "To update multiple Key values at once:"
   ]
  },
  {
   "cell_type": "code",
   "execution_count": 28,
   "metadata": {},
   "outputs": [
    {
     "name": "stdout",
     "output_type": "stream",
     "text": [
      "{'name': 'Surya', 'age': 23, 'courses': ['math', 'science'], 'phone': '978685842'}\n"
     ]
    }
   ],
   "source": [
    "student.update({'name':'Surya','age':23})\n",
    "print(student)"
   ]
  },
  {
   "cell_type": "markdown",
   "metadata": {},
   "source": [
    "To delete any Key-Value Pair:"
   ]
  },
  {
   "cell_type": "code",
   "execution_count": 29,
   "metadata": {},
   "outputs": [
    {
     "data": {
      "text/plain": [
       "{'age': 23, 'courses': ['math', 'science'], 'name': 'Surya'}"
      ]
     },
     "execution_count": 29,
     "metadata": {},
     "output_type": "execute_result"
    }
   ],
   "source": [
    "del student['phone']\n",
    "student"
   ]
  },
  {
   "cell_type": "code",
   "execution_count": 30,
   "metadata": {
    "collapsed": true
   },
   "outputs": [],
   "source": [
    "age=student.pop('age')\n",
    "age\n",
    "student\n",
    "student.update({'name':'John','age':23,'phone':934892422})"
   ]
  },
  {
   "cell_type": "markdown",
   "metadata": {},
   "source": [
    "Looping through Keys and Values of our Dictionary"
   ]
  },
  {
   "cell_type": "code",
   "execution_count": 36,
   "metadata": {},
   "outputs": [
    {
     "name": "stdout",
     "output_type": "stream",
     "text": [
      "4\n"
     ]
    }
   ],
   "source": [
    "print(len(student))\n"
   ]
  },
  {
   "cell_type": "code",
   "execution_count": 34,
   "metadata": {},
   "outputs": [
    {
     "name": "stdout",
     "output_type": "stream",
     "text": [
      "name John\n",
      "courses ['math', 'science']\n",
      "age 23\n",
      "phone 934892422\n"
     ]
    }
   ],
   "source": [
    "for key,value in student.items():\n",
    "    print(key,value)"
   ]
  },
  {
   "cell_type": "markdown",
   "metadata": {},
   "source": [
    "# Conditions and Booleans"
   ]
  },
  {
   "cell_type": "code",
   "execution_count": 113,
   "metadata": {},
   "outputs": [
    {
     "name": "stdout",
     "output_type": "stream",
     "text": [
      "True\n"
     ]
    }
   ],
   "source": [
    "a=[1,2,3]\n",
    "b=[1,2,3]\n",
    "print(a==b)"
   ]
  },
  {
   "cell_type": "code",
   "execution_count": 114,
   "metadata": {},
   "outputs": [
    {
     "name": "stdout",
     "output_type": "stream",
     "text": [
      "False\n"
     ]
    }
   ],
   "source": [
    "print(a is b)"
   ]
  },
  {
   "cell_type": "markdown",
   "metadata": {},
   "source": [
    "The reason why the above statement returns False is, the two objects a and b are sllocated in different memeory locations. The is operator compares the object's id but not the value of the obejects."
   ]
  },
  {
   "cell_type": "code",
   "execution_count": 115,
   "metadata": {},
   "outputs": [
    {
     "name": "stdout",
     "output_type": "stream",
     "text": [
      "121450056\n",
      "121346504\n"
     ]
    }
   ],
   "source": [
    "print(id(a))\n",
    "print(id(b))"
   ]
  },
  {
   "cell_type": "code",
   "execution_count": 3,
   "metadata": {},
   "outputs": [
    {
     "name": "stdout",
     "output_type": "stream",
     "text": [
      "94014042499904 94014042499840\n",
      "False\n"
     ]
    }
   ],
   "source": [
    "a=5\n",
    "b=a\n",
    "b=3\n",
    "print(id(a),id(b))\n",
    "print(a is b)"
   ]
  },
  {
   "cell_type": "code",
   "execution_count": 116,
   "metadata": {
    "collapsed": true
   },
   "outputs": [],
   "source": [
    "#False Vlaues\n",
    "# False\n",
    "# None\n",
    "# Zero of any numeric type\n",
    "# Any empty sequence, for exmaple, '',(),[].\n",
    "#Any empty mapping, for example, {}.\n"
   ]
  },
  {
   "cell_type": "markdown",
   "metadata": {},
   "source": [
    "# Functions"
   ]
  },
  {
   "cell_type": "code",
   "execution_count": 1,
   "metadata": {
    "collapsed": true
   },
   "outputs": [],
   "source": [
    "def hello_func():\n",
    "    pass\n",
    "    \n",
    "hello_func()"
   ]
  },
  {
   "cell_type": "code",
   "execution_count": 2,
   "metadata": {},
   "outputs": [
    {
     "name": "stdout",
     "output_type": "stream",
     "text": [
      "hello world\n"
     ]
    }
   ],
   "source": [
    "def hello_func():\n",
    "    print('hello world')\n",
    "    \n",
    "hello_func()"
   ]
  },
  {
   "cell_type": "code",
   "execution_count": 129,
   "metadata": {},
   "outputs": [
    {
     "data": {
      "text/plain": [
       "'HELLO WORLD'"
      ]
     },
     "execution_count": 129,
     "metadata": {},
     "output_type": "execute_result"
    }
   ],
   "source": [
    "def hello_func():\n",
    "    return 'Hello World'\n",
    "    \n",
    "hello_func().upper()"
   ]
  },
  {
   "cell_type": "code",
   "execution_count": 135,
   "metadata": {},
   "outputs": [
    {
     "name": "stdout",
     "output_type": "stream",
     "text": [
      "HI,surya\n",
      "HI,You\n"
     ]
    }
   ],
   "source": [
    "def hello_func(greeting,name='You'):\n",
    "    return '{},{}'.format(greeting,name)\n",
    "    \n",
    "print(hello_func('HI','surya'))\n",
    "print(hello_func('HI'))"
   ]
  },
  {
   "cell_type": "markdown",
   "metadata": {},
   "source": [
    " Usage of args & Kwargs"
   ]
  },
  {
   "cell_type": "code",
   "execution_count": 3,
   "metadata": {},
   "outputs": [
    {
     "name": "stdout",
     "output_type": "stream",
     "text": [
      "('Math', 'Art')\n",
      "{'name': 'John', 'Age': 22}\n"
     ]
    }
   ],
   "source": [
    "def student_info(*args,**kwargs):\n",
    "    print(args)\n",
    "    print(kwargs)\n",
    "student_info('Math','Art',name='John',Age=22)"
   ]
  },
  {
   "cell_type": "markdown",
   "metadata": {},
   "source": [
    "Using args & kwargs to call a function"
   ]
  },
  {
   "cell_type": "code",
   "execution_count": 4,
   "metadata": {},
   "outputs": [
    {
     "name": "stdout",
     "output_type": "stream",
     "text": [
      "(['Math', 'Art'], {'name': 'John', 'Age': 22})\n",
      "{}\n",
      "('Math', 'Art')\n",
      "{'name': 'John', 'Age': 22}\n"
     ]
    }
   ],
   "source": [
    "courses=['Math','Art']\n",
    "info={'name':'John','Age':22}\n",
    "student_info(courses,info)\n",
    "student_info(*courses,**info)"
   ]
  },
  {
   "cell_type": "code",
   "execution_count": 145,
   "metadata": {},
   "outputs": [
    {
     "name": "stdout",
     "output_type": "stream",
     "text": [
      "31\n"
     ]
    }
   ],
   "source": [
    "month_days=[0,31,28,31,30,31,30,31,31,30,31,30,31]\n",
    "\n",
    "def is_leap(year):\n",
    "    return year %4==0 and (year %100 != 0 or year % 400 ==0)\n",
    "def days_in_month(year,month):\n",
    "    \n",
    "    if not 1<=month<=12:\n",
    "        print('Invalid Month')\n",
    "    if month==2 and is_leap(year):\n",
    "        return 29\n",
    "    return month_days[month]\n",
    "\n",
    "print(days_in_month(2017,3))"
   ]
  },
  {
   "cell_type": "markdown",
   "metadata": {},
   "source": [
    "# Modules"
   ]
  },
  {
   "cell_type": "code",
   "execution_count": 31,
   "metadata": {},
   "outputs": [
    {
     "name": "stdout",
     "output_type": "stream",
     "text": [
      "imported from my module....\n"
     ]
    }
   ],
   "source": [
    "#Created a module called my_module that is in the present directory\n",
    "import my_module"
   ]
  },
  {
   "cell_type": "code",
   "execution_count": 32,
   "metadata": {},
   "outputs": [
    {
     "name": "stdout",
     "output_type": "stream",
     "text": [
      "2\n"
     ]
    }
   ],
   "source": [
    "import my_module\n",
    "course=['English','Tamil','Math','Science','Social']\n",
    "index_of_element=my_module.find_index(course,'Math')\n",
    "print(index_of_element)\n"
   ]
  },
  {
   "cell_type": "code",
   "execution_count": 33,
   "metadata": {},
   "outputs": [
    {
     "name": "stdout",
     "output_type": "stream",
     "text": [
      "['__builtins__', '__cached__', '__doc__', '__file__', '__loader__', '__name__', '__package__', '__spec__', 'find_index']\n"
     ]
    }
   ],
   "source": [
    "print(dir(my_module)) #List out all the methods and attributes available"
   ]
  },
  {
   "cell_type": "markdown",
   "metadata": {},
   "source": [
    "Python looks for modules in certain paths, to see those paths:"
   ]
  },
  {
   "cell_type": "code",
   "execution_count": 12,
   "metadata": {},
   "outputs": [
    {
     "name": "stdout",
     "output_type": "stream",
     "text": [
      "['', 'C:\\\\Users\\\\ezmxxsu\\\\AppData\\\\Local\\\\Continuum\\\\anaconda3\\\\python36.zip', 'C:\\\\Users\\\\ezmxxsu\\\\AppData\\\\Local\\\\Continuum\\\\anaconda3\\\\DLLs', 'C:\\\\Users\\\\ezmxxsu\\\\AppData\\\\Local\\\\Continuum\\\\anaconda3\\\\lib', 'C:\\\\Users\\\\ezmxxsu\\\\AppData\\\\Local\\\\Continuum\\\\anaconda3', 'C:\\\\Users\\\\ezmxxsu\\\\AppData\\\\Local\\\\Continuum\\\\anaconda3\\\\lib\\\\site-packages', 'C:\\\\Users\\\\ezmxxsu\\\\AppData\\\\Local\\\\Continuum\\\\anaconda3\\\\lib\\\\site-packages\\\\Babel-2.5.0-py3.6.egg', 'C:\\\\Users\\\\ezmxxsu\\\\AppData\\\\Local\\\\Continuum\\\\anaconda3\\\\lib\\\\site-packages\\\\win32', 'C:\\\\Users\\\\ezmxxsu\\\\AppData\\\\Local\\\\Continuum\\\\anaconda3\\\\lib\\\\site-packages\\\\win32\\\\lib', 'C:\\\\Users\\\\ezmxxsu\\\\AppData\\\\Local\\\\Continuum\\\\anaconda3\\\\lib\\\\site-packages\\\\Pythonwin', 'C:\\\\Users\\\\ezmxxsu\\\\AppData\\\\Local\\\\Continuum\\\\anaconda3\\\\lib\\\\site-packages\\\\IPython\\\\extensions', 'C:\\\\Users\\\\ezmxxsu\\\\.ipython']\n"
     ]
    }
   ],
   "source": [
    "import sys\n",
    "\n",
    "print(sys.path)"
   ]
  },
  {
   "cell_type": "code",
   "execution_count": 17,
   "metadata": {},
   "outputs": [
    {
     "data": {
      "text/plain": [
       "'Science'"
      ]
     },
     "execution_count": 17,
     "metadata": {},
     "output_type": "execute_result"
    }
   ],
   "source": [
    "import random\n",
    "\n",
    "random_course=random.choice(course)\n",
    "random_course"
   ]
  },
  {
   "cell_type": "markdown",
   "metadata": {},
   "source": [
    "# List Comprehensions "
   ]
  },
  {
   "cell_type": "code",
   "execution_count": 16,
   "metadata": {
    "collapsed": true
   },
   "outputs": [],
   "source": [
    "nums=[i+1 for i in range(10)]\n",
    "my_list=list(map(lambda n: n, nums))"
   ]
  },
  {
   "cell_type": "code",
   "execution_count": 21,
   "metadata": {},
   "outputs": [
    {
     "name": "stdout",
     "output_type": "stream",
     "text": [
      "[2, 4, 6, 8, 10]\n"
     ]
    },
    {
     "data": {
      "text/plain": [
       "[2, 4, 6, 8, 10]"
      ]
     },
     "execution_count": 21,
     "metadata": {},
     "output_type": "execute_result"
    }
   ],
   "source": [
    "my_list_even=[n for n in nums if n%2 ==0]\n",
    "print(my_list_even)\n",
    "my_list_even=list(filter(lambda n: n%2==0,nums))\n",
    "print(my_list_even)"
   ]
  },
  {
   "cell_type": "markdown",
   "metadata": {},
   "source": [
    "# Dictionary Comprehensions"
   ]
  },
  {
   "cell_type": "code",
   "execution_count": 24,
   "metadata": {},
   "outputs": [
    {
     "name": "stdout",
     "output_type": "stream",
     "text": [
      "[('Bruce', 'Batman'), ('Clark', 'Superman'), ('Peter', 'Spiderman'), ('Logan', 'Wolverine'), ('Wade', 'Deadpool')]\n"
     ]
    }
   ],
   "source": [
    "names=['Bruce','Clark','Peter','Logan','Wade']\n",
    "heros=['Batman','Superman','Spiderman','Wolverine','Deadpool']\n",
    "print (list(zip(names,heros)))"
   ]
  },
  {
   "cell_type": "code",
   "execution_count": 26,
   "metadata": {},
   "outputs": [
    {
     "data": {
      "text/plain": [
       "{'Bruce': 'Batman',\n",
       " 'Clark': 'Superman',\n",
       " 'Logan': 'Wolverine',\n",
       " 'Peter': 'Spiderman',\n",
       " 'Wade': 'Deadpool'}"
      ]
     },
     "execution_count": 26,
     "metadata": {},
     "output_type": "execute_result"
    }
   ],
   "source": [
    "my_dict={name:hero for name,hero in list(zip(names,heros))}\n",
    "my_dict"
   ]
  },
  {
   "cell_type": "markdown",
   "metadata": {},
   "source": [
    "# Set Comprehension"
   ]
  },
  {
   "cell_type": "code",
   "execution_count": 27,
   "metadata": {},
   "outputs": [
    {
     "data": {
      "text/plain": [
       "{1, 2, 3, 4, 5, 6, 7}"
      ]
     },
     "execution_count": 27,
     "metadata": {},
     "output_type": "execute_result"
    }
   ],
   "source": [
    "nums=[1,1,2,2,2,3,3,4,5,5,5,5,6,6,7]\n",
    "my_set={n for n in nums}\n",
    "my_set"
   ]
  },
  {
   "cell_type": "markdown",
   "metadata": {},
   "source": [
    "# Generator Expression "
   ]
  },
  {
   "cell_type": "code",
   "execution_count": 28,
   "metadata": {},
   "outputs": [
    {
     "data": {
      "text/plain": [
       "[1, 4, 9, 16, 25]"
      ]
     },
     "execution_count": 28,
     "metadata": {},
     "output_type": "execute_result"
    }
   ],
   "source": [
    "#Generators are simple functions which return an iterable set of items, \n",
    "#one at a time. This aviods keeping all the items in a list in memeory.\n",
    "\n",
    "# without generator\n",
    "\n",
    "def square_numbers(nums):\n",
    "    sq_list=[]\n",
    "    for n in nums:\n",
    "        sq_list.append(n*n)\n",
    "    return sq_list\n",
    "\n",
    "square_numbers([1,2,3,4,5])"
   ]
  },
  {
   "cell_type": "code",
   "execution_count": 37,
   "metadata": {},
   "outputs": [
    {
     "name": "stdout",
     "output_type": "stream",
     "text": [
      "1\n",
      "4\n",
      "9\n",
      "16\n",
      "25\n"
     ]
    }
   ],
   "source": [
    "#Using generators\n",
    "\n",
    "def square_numbers(nums):\n",
    "    for n in nums:\n",
    "        yield n*n\n",
    "        \n",
    "num=square_numbers([1,2,3,4,5])\n",
    "\n",
    "print (next(num))\n",
    "print (next(num))\n",
    "print (next(num))\n",
    "print (next(num))\n",
    "print (next(num))\n",
    "\n",
    "# Or\n",
    "\n",
    "for n in num:\n",
    "    print(n)"
   ]
  },
  {
   "cell_type": "code",
   "execution_count": 33,
   "metadata": {},
   "outputs": [
    {
     "name": "stdout",
     "output_type": "stream",
     "text": [
      "[1, 4, 9, 16, 25]\n"
     ]
    }
   ],
   "source": [
    "# using list comprehensions\n",
    "\n",
    "sq_num=[n*n for n in [1,2,3,4,5]]\n",
    "print(sq_num)"
   ]
  },
  {
   "cell_type": "code",
   "execution_count": 35,
   "metadata": {},
   "outputs": [
    {
     "name": "stdout",
     "output_type": "stream",
     "text": [
      "1\n",
      "4\n",
      "9\n",
      "16\n",
      "25\n"
     ]
    }
   ],
   "source": [
    "# Using generator comprehension\n",
    "\n",
    "sq_num=(n*n for n in [1,2,3,4,5])\n",
    "print (next(sq_num))\n",
    "print (next(sq_num))\n",
    "print (next(sq_num))\n",
    "print (next(sq_num))\n",
    "print (next(sq_num))\n",
    "\n",
    "# Or\n",
    "for n in num:\n",
    "    print(n)"
   ]
  },
  {
   "cell_type": "markdown",
   "metadata": {},
   "source": [
    "# More on sorting of Lists, tuples and dictionaries"
   ]
  },
  {
   "cell_type": "code",
   "execution_count": 41,
   "metadata": {},
   "outputs": [
    {
     "data": {
      "text/plain": [
       "[-6, -5, -4, 1, 2, 3]"
      ]
     },
     "execution_count": 41,
     "metadata": {},
     "output_type": "execute_result"
    }
   ],
   "source": [
    "li=[-6,-4,1,3,2,-5]\n",
    "s_li=sorted(li,key=abs)\n",
    "s_li"
   ]
  },
  {
   "cell_type": "markdown",
   "metadata": {
    "collapsed": true
   },
   "source": [
    "Object Sorting"
   ]
  },
  {
   "cell_type": "code",
   "execution_count": 3,
   "metadata": {},
   "outputs": [
    {
     "data": {
      "text/plain": [
       "[Jaya,22,$25000, Sowmya,23,$27000, Surya,23,$24000]"
      ]
     },
     "execution_count": 3,
     "metadata": {},
     "output_type": "execute_result"
    }
   ],
   "source": [
    "class employee():\n",
    "    def __init__(self,name,age,salary):\n",
    "        self.name=name\n",
    "        self.age=age\n",
    "        self.salary=salary\n",
    "        \n",
    "    def __repr__(self):\n",
    "        return '{},{},${}'.format(self.name,self.age,self.salary)\n",
    "    \n",
    "emp1=employee('Surya',23,24000)\n",
    "emp2=employee('Sowmya',23,27000)\n",
    "emp3=employee('Jaya',22,25000)\n",
    "\n",
    "emp_list=[emp1,emp2,emp3]\n",
    "\n",
    "def e_sort(emp):\n",
    "    return emp.name\n",
    "\n",
    "s_emp=sorted(emp_list, key=e_sort)\n",
    "s_emp\n",
    "        "
   ]
  },
  {
   "cell_type": "code",
   "execution_count": 4,
   "metadata": {},
   "outputs": [
    {
     "data": {
      "text/plain": [
       "[Jaya,22,$25000, Sowmya,23,$27000, Surya,23,$24000]"
      ]
     },
     "execution_count": 4,
     "metadata": {},
     "output_type": "execute_result"
    }
   ],
   "source": [
    "class employee():\n",
    "    def __init__(self,name,age,salary):\n",
    "        self.name=name\n",
    "        self.age=age\n",
    "        self.salary=salary\n",
    "        \n",
    "    def __repr__(self):\n",
    "        return '{},{},${}'.format(self.name,self.age,self.salary)\n",
    "    \n",
    "emp1=employee('Surya',23,24000)\n",
    "emp2=employee('Sowmya',23,27000)\n",
    "emp3=employee('Jaya',22,25000)\n",
    "\n",
    "emp_list=[emp1,emp2,emp3]\n",
    "\n",
    "s_emp=sorted(emp_list, key=lambda e:e.name)\n",
    "s_emp"
   ]
  },
  {
   "cell_type": "markdown",
   "metadata": {},
   "source": [
    "# String Formatting advanced : Dicts, Lists, Numbers, and Dates\n"
   ]
  },
  {
   "cell_type": "code",
   "execution_count": 16,
   "metadata": {},
   "outputs": [
    {
     "name": "stdout",
     "output_type": "stream",
     "text": [
      "My name is Jenn and my age is 23\n",
      "His name is Jenn and his age is 23. Jenn was a good student in school.\n",
      "His name is Jenn and his age is 23. Jenn was a good student in school.\n",
      "His name is Jenn and his age is 23. Jenn was a good student in school.\n",
      "His name is Jenn and his age is 23. Jenn was a good student in school.\n",
      "His name is Jenn and his age is 23. Jenn was a good student in school.\n"
     ]
    }
   ],
   "source": [
    "person={'name':'Jenn','age':23}\n",
    "\n",
    "#different ways of string formatting dicts\n",
    "sen1='My name is {} and my age is {}'.format(person['name'],person['age'])\n",
    "\n",
    "sen2='His name is {0} and his age is {1}. {0} was a good student in school.'.format(person['name'],person['age'])\n",
    "\n",
    "sen3='His name is {0[name]} and his age is {1[age]}. {0[name]} was a good student in school.'.format(person,person)\n",
    "\n",
    "sen4='His name is {0[name]} and his age is {0[age]}. {0[name]} was a good student in school.'.format(person)\n",
    "\n",
    "print(sen1)\n",
    "print(sen2)\n",
    "print(sen3)\n",
    "print(sen4)\n",
    "\n",
    "# Direct mapping of dict items\n",
    "\n",
    "sen5='His name is {name} and his age is {age}. {name} was a good student in school.'.format(name='Jenn',age=23)\n",
    "print(sen5)\n",
    "\n",
    "#Unpacking the items from dict\n",
    "\n",
    "sen6='His name is {name} and his age is {age}. {name} was a good student in school.'.format(**person)\n",
    "print(sen6)"
   ]
  },
  {
   "cell_type": "code",
   "execution_count": 18,
   "metadata": {},
   "outputs": [
    {
     "name": "stdout",
     "output_type": "stream",
     "text": [
      "His name is Jenn and his age is 23. Jenn was a good student in school.\n",
      "His name is Jenn and his age is 23. Jenn was a good student in school.\n"
     ]
    }
   ],
   "source": [
    "# different ways of string formatting lists\n",
    "\n",
    "l=['Jenn',23]\n",
    "\n",
    "sen1='His name is {0[0]} and his age is {0[1]}. {0[0]} was a good student in school.'.format(l)\n",
    "#unpacking the items from the list\n",
    "sen2='His name is {0} and his age is {1}. {0} was a good student in school.'.format(*l)\n",
    "\n",
    "print(sen1)\n",
    "print(sen2)"
   ]
  },
  {
   "cell_type": "code",
   "execution_count": 13,
   "metadata": {},
   "outputs": [
    {
     "name": "stdout",
     "output_type": "stream",
     "text": [
      "His name is Jenn and his age is 23. Jenn was a good student in school.\n"
     ]
    }
   ],
   "source": [
    "# Different wasys of string formatting class attributes\n",
    "\n",
    "class person():\n",
    "    def __init__(self,name,age):\n",
    "        self.name=name\n",
    "        self.age=age\n",
    "p1=person('Jenn',23)\n",
    "\n",
    "sen1='His name is {0.name} and his age is {0.age}. {0.name} was a good student in school.'.format(p1)\n",
    "print(sen1)"
   ]
  },
  {
   "cell_type": "code",
   "execution_count": 23,
   "metadata": {},
   "outputs": [
    {
     "name": "stdout",
     "output_type": "stream",
     "text": [
      "the number is 1.\n",
      "the number is 2.\n",
      "the number is 3.\n",
      "the number is 4.\n",
      "the number is 5.\n",
      "the number is 6.\n",
      "the number is 7.\n",
      "the number is 8.\n",
      "the number is 9.\n",
      "the number is 10.\n",
      "\n",
      "\n",
      "the number is 01.\n",
      "the number is 02.\n",
      "the number is 03.\n",
      "the number is 04.\n",
      "the number is 05.\n",
      "the number is 06.\n",
      "the number is 07.\n",
      "the number is 08.\n",
      "the number is 09.\n",
      "the number is 10.\n"
     ]
    }
   ],
   "source": [
    "# Different ways of number formatting\n",
    "\n",
    "for n in range(1,11):\n",
    "    print('the number is {}.'.format(n))\n",
    "    \n",
    "#Double padding \n",
    "print('\\n')\n",
    "\n",
    "for n in range(1,11):\n",
    "    print('the number is {:02}.'.format(n))"
   ]
  },
  {
   "cell_type": "code",
   "execution_count": 24,
   "metadata": {},
   "outputs": [
    {
     "name": "stdout",
     "output_type": "stream",
     "text": [
      "The value of Pi is 3.14\n"
     ]
    }
   ],
   "source": [
    "Pi=3.14159265\n",
    "\n",
    "sen='The value of Pi is {:.2f}'.format(Pi) #only two decimals included\n",
    "\n",
    "print(sen)"
   ]
  },
  {
   "cell_type": "code",
   "execution_count": 29,
   "metadata": {},
   "outputs": [
    {
     "name": "stdout",
     "output_type": "stream",
     "text": [
      "1 MB is eqaul to 1,000,000 bytes\n",
      "1 MB is eqaul to 1,000,000.00 bytes\n"
     ]
    }
   ],
   "source": [
    "# For comma separated values\n",
    "\n",
    "sen='1 MB is eqaul to {:,} bytes'.format(1000**2)\n",
    "print(sen)\n",
    "\n",
    "# to include two decimals \n",
    "\n",
    "sen1='1 MB is eqaul to {:,.2f} bytes'.format(1000**2)\n",
    "print(sen1)"
   ]
  },
  {
   "cell_type": "code",
   "execution_count": 30,
   "metadata": {},
   "outputs": [
    {
     "name": "stdout",
     "output_type": "stream",
     "text": [
      "2018-08-28 03:58:45\n"
     ]
    }
   ],
   "source": [
    "# fORMATTING DATES\n",
    "import datetime\n",
    "\n",
    "my_date=datetime.datetime(2018,8,28,3,58,45)\n",
    "\n",
    "sen='{:}'.format(my_date)"
   ]
  },
  {
   "cell_type": "markdown",
   "metadata": {},
   "source": [
    "# OS module"
   ]
  },
  {
   "cell_type": "code",
   "execution_count": 46,
   "metadata": {},
   "outputs": [
    {
     "name": "stdout",
     "output_type": "stream",
     "text": [
      "C:\\Users\\ezmxxsu\\Documents\\my python notebook\\Corey Schafer\n",
      "C:\\Users\\ezmxxsu\\Documents\n"
     ]
    }
   ],
   "source": [
    "import os\n",
    "\n",
    "print(os.getcwd()) #GETS current working directory\n",
    "\n",
    "os.chdir(r'C:\\Users\\ezmxxsu\\Documents') # for changing the current working directory\n",
    "print(os.getcwd())"
   ]
  },
  {
   "cell_type": "code",
   "execution_count": 52,
   "metadata": {},
   "outputs": [
    {
     "ename": "FileExistsError",
     "evalue": "[WinError 183] Cannot create a file when that file already exists: 'OS_demo_dir'",
     "output_type": "error",
     "traceback": [
      "\u001b[1;31m---------------------------------------------------------------------------\u001b[0m",
      "\u001b[1;31mFileExistsError\u001b[0m                           Traceback (most recent call last)",
      "\u001b[1;32m<ipython-input-52-b36a9fa45034>\u001b[0m in \u001b[0;36m<module>\u001b[1;34m()\u001b[0m\n\u001b[1;32m----> 1\u001b[1;33m \u001b[0mos\u001b[0m\u001b[1;33m.\u001b[0m\u001b[0mmkdir\u001b[0m\u001b[1;33m(\u001b[0m\u001b[1;34m'OS_demo_dir'\u001b[0m\u001b[1;33m)\u001b[0m \u001b[1;31m# This makes sub folder only if the parent folder exists\u001b[0m\u001b[1;33m\u001b[0m\u001b[0m\n\u001b[0m\u001b[0;32m      2\u001b[0m \u001b[0mos\u001b[0m\u001b[1;33m.\u001b[0m\u001b[0mmakedirs\u001b[0m\u001b[1;33m(\u001b[0m\u001b[1;34m'OS_demo/sub-folder'\u001b[0m\u001b[1;33m)\u001b[0m \u001b[1;31m# this makes sub-folder along with parent folder if not exist\u001b[0m\u001b[1;33m\u001b[0m\u001b[0m\n",
      "\u001b[1;31mFileExistsError\u001b[0m: [WinError 183] Cannot create a file when that file already exists: 'OS_demo_dir'"
     ]
    }
   ],
   "source": [
    "os.mkdir('OS_demo_dir') # This makes sub folder only if the parent folder exists\n",
    "os.makedirs('OS_demo/sub-folder') # this makes sub-folder along with parent folder if not exist\n",
    "\n",
    "os.rmdir('OS_demo_dir/')\n",
    "os.removedirs('OS_demo/sub-folder/')\n",
    "\n",
    "print"
   ]
  },
  {
   "cell_type": "code",
   "execution_count": 4,
   "metadata": {},
   "outputs": [
    {
     "name": "stdout",
     "output_type": "stream",
     "text": [
      "C:\\Users\\ezmxxsu\\Desktop\n",
      "CurretnPath:/Users/ezmxxsu/Desktop/\n",
      "Directories:['Files moved toprod', 'home', 'New folder', 'Shell', '__pycache__']\n",
      "Files:['after change.docx', 'AI and Robotics.txt', 'AMRx EDx.PNG', 'anaconda.txt', 'Atom.lnk', 'Change Template_Tech Plan_AMS database replication.docx', 'CMDB data 24th May to 26th June.xlsx', 'communication plan.docx', 'Copy of CMDB data 27th June to 10th August.xlsx', 'cover letter - noodle ai.docx', 'CV_Surya M.pdf', 'desktop.ini', 'Ericsson Signature Tool.lnk', 'Facebook work Log.txt', 'Final prototype.PNG', 'final_script.py', 'foisdb (2).sql', 'foisdb (2).zip', 'july2018.PNG', 'JunosPulse.x64.rar', 'mail.docx', 'MBNL_Blank Change Request Template.xlsx', 'MEng course choices univ of waterloo.docx', 'missing time zone id.PNG', 'R You Ready.docx', 'resume_updated.docx', 'RFC Maybach Change Template.docx', 'Self Service.lnk', 'Servebot purchase list.xlsx', 'Server Managment MOP.docx', 'Smart Water docmentation.pdf', 'Smart Water project.docx', 'Smart Water project.pdf', 'Sowmya_Resume_Feb 2018.pdf', 'Surya M Res-Feb-2018.pdf', 'Surya M Resume-Feb-2018.pdf', 'Surya M Resume_Feb-2018.pdf', 'surya.m@ericsson.com_F16.pdf', 'Telegram.lnk', 'top 100.docx', 'University details.txt', 'WPS PDF to Word.lnk', 'Yammer.lnk', '~$op 100.docx', '~$ver letter - noodle ai.docx']\n",
      "CurretnPath:/Users/ezmxxsu/Desktop/Files moved toprod\n",
      "Directories:['system']\n",
      "Files:[]\n",
      "CurretnPath:/Users/ezmxxsu/Desktop/Files moved toprod\\system\n",
      "Directories:[]\n",
      "Files:['SLA.pm']\n",
      "CurretnPath:/Users/ezmxxsu/Desktop/home\n",
      "Directories:['foist', 'log_sftp']\n",
      "Files:[]\n",
      "CurretnPath:/Users/ezmxxsu/Desktop/home\\foist\n",
      "Directories:['home', 'home_july', 'home_june', 'home_may', 'upload']\n",
      "Files:['july_csv.zip', 'june1_csv.zip', 'june_csv.zip', 'may1_csv.zip', 'may_csv.zip', 'Service Level & Invoice Report - 13 Sep 2017.csv', 'Service Level & Invoice Report - 29 Aug 2018.csv']\n",
      "CurretnPath:/Users/ezmxxsu/Desktop/home\\foist\\home\n",
      "Directories:['foist']\n",
      "Files:[]\n",
      "CurretnPath:/Users/ezmxxsu/Desktop/home\\foist\\home\\foist\n",
      "Directories:['log_sftp']\n",
      "Files:[]\n",
      "CurretnPath:/Users/ezmxxsu/Desktop/home\\foist\\home\\foist\\log_sftp\n",
      "Directories:[]\n",
      "Files:['SLAReport_06_00_02.csv']\n",
      "CurretnPath:/Users/ezmxxsu/Desktop/home\\foist\\home_july\n",
      "Directories:['foist']\n",
      "Files:[]\n",
      "CurretnPath:/Users/ezmxxsu/Desktop/home\\foist\\home_july\\foist\n",
      "Directories:['log_sftp']\n",
      "Files:[]\n",
      "CurretnPath:/Users/ezmxxsu/Desktop/home\\foist\\home_july\\foist\\log_sftp\n",
      "Directories:[]\n",
      "Files:['SLAReport_06_00_02.csv']\n",
      "CurretnPath:/Users/ezmxxsu/Desktop/home\\foist\\home_june\n",
      "Directories:['foist']\n",
      "Files:[]\n",
      "CurretnPath:/Users/ezmxxsu/Desktop/home\\foist\\home_june\\foist\n",
      "Directories:['log_sftp']\n",
      "Files:[]\n",
      "CurretnPath:/Users/ezmxxsu/Desktop/home\\foist\\home_june\\foist\\log_sftp\n",
      "Directories:[]\n",
      "Files:['SLAReport_14_00_01.csv']\n",
      "CurretnPath:/Users/ezmxxsu/Desktop/home\\foist\\home_may\n",
      "Directories:['foist']\n",
      "Files:[]\n",
      "CurretnPath:/Users/ezmxxsu/Desktop/home\\foist\\home_may\\foist\n",
      "Directories:[]\n",
      "Files:['SLAReport_12_40_35.csv']\n",
      "CurretnPath:/Users/ezmxxsu/Desktop/home\\foist\\upload\n",
      "Directories:['test']\n",
      "Files:['Service Level & Invoice Report - 13 Sep 2017.csv', 'Service Level & Invoice Report - 24 Aug 2018.csv', 'Service Level & Invoice Report - 25 Aug 2018.csv', 'Service Level & Invoice Report - 26 Aug 2018.csv', 'Service Level & Invoice Report - 27 Aug 2018.csv', 'Service Level & Invoice Report - 28 Aug 2018.csv', 'Service Level & Invoice Report - 29 Aug 2018.csv', 'Service Level & Invoice Report_jan.csv', 'SLAReport_14_20_53.csv']\n",
      "CurretnPath:/Users/ezmxxsu/Desktop/home\\foist\\upload\\test\n",
      "Directories:[]\n",
      "Files:['Service Level & Invoice Report - 29 Aug 2018.csv']\n",
      "CurretnPath:/Users/ezmxxsu/Desktop/home\\log_sftp\n",
      "Directories:[]\n",
      "Files:[]\n",
      "CurretnPath:/Users/ezmxxsu/Desktop/New folder\n",
      "Directories:['33 Navaneeth Sadasivan']\n",
      "Files:[]\n",
      "CurretnPath:/Users/ezmxxsu/Desktop/New folder\\33 Navaneeth Sadasivan\n",
      "Directories:[]\n",
      "Files:['ETSNGTCR_0000000029089048.pdf', 'Offer_Letter_1836888.pdf']\n",
      "CurretnPath:/Users/ezmxxsu/Desktop/Shell\n",
      "Directories:['.vagrant']\n",
      "Files:['Vagrantfile']\n",
      "CurretnPath:/Users/ezmxxsu/Desktop/Shell\\.vagrant\n",
      "Directories:['machines']\n",
      "Files:[]\n",
      "CurretnPath:/Users/ezmxxsu/Desktop/Shell\\.vagrant\\machines\n",
      "Directories:['default']\n",
      "Files:[]\n",
      "CurretnPath:/Users/ezmxxsu/Desktop/Shell\\.vagrant\\machines\\default\n",
      "Directories:['virtualbox']\n",
      "Files:[]\n",
      "CurretnPath:/Users/ezmxxsu/Desktop/Shell\\.vagrant\\machines\\default\\virtualbox\n",
      "Directories:[]\n",
      "Files:['action_provision', 'action_set_name', 'creator_uid', 'id', 'index_uuid', 'private_key', 'synced_folders', 'vagrant_cwd']\n",
      "CurretnPath:/Users/ezmxxsu/Desktop/__pycache__\n",
      "Directories:[]\n",
      "Files:['create_table.cpython-36.pyc', 'myfunctions.cpython-36.pyc', 'myfunctions1.cpython-36.pyc']\n"
     ]
    }
   ],
   "source": [
    "import os\n",
    "\n",
    "os.chdir('/Users/ezmxxsu/Desktop/')\n",
    "print(os.getcwd())\n",
    "for dirpath,dirname,filenames in os.walk('/Users/ezmxxsu/Desktop/'):\n",
    "    print('CurretnPath:{}'.format(dirpath))\n",
    "    print('Directories:{}'.format(dirname))\n",
    "    print('Files:{}'.format(filenames))"
   ]
  },
  {
   "cell_type": "code",
   "execution_count": 11,
   "metadata": {},
   "outputs": [
    {
     "name": "stdout",
     "output_type": "stream",
     "text": [
      "Facebook work Log.txt\n",
      "/Users/ezmxxsu/Desktop\n",
      "('/Users/ezmxxsu/Desktop', 'Facebook work Log.txt')\n",
      "True\n",
      "True\n"
     ]
    }
   ],
   "source": [
    "import os\n",
    "\n",
    "os.chdir('/Users/ezmxxsu/Desktop/')\n",
    "\n",
    "print(os.path.basename('/Users/ezmxxsu/Desktop/Facebook work Log.txt'))\n",
    "print(os.path.dirname('/Users/ezmxxsu/Desktop/Facebook work Log.txt'))\n",
    "print(os.path.split('/Users/ezmxxsu/Desktop/Facebook work Log.txt'))\n",
    "print(os.path.exists('/Users/ezmxxsu/Desktop/Facebook work Log.txt'))\n",
    "print(os.path.isdir('/Users/ezmxxsu/Desktop/home/'))"
   ]
  },
  {
   "cell_type": "code",
   "execution_count": null,
   "metadata": {
    "collapsed": true
   },
   "outputs": [],
   "source": []
  }
 ],
 "metadata": {
  "kernelspec": {
   "display_name": "Python 3",
   "language": "python",
   "name": "python3"
  },
  "language_info": {
   "codemirror_mode": {
    "name": "ipython",
    "version": 3
   },
   "file_extension": ".py",
   "mimetype": "text/x-python",
   "name": "python",
   "nbconvert_exporter": "python",
   "pygments_lexer": "ipython3",
   "version": "3.6.10"
  }
 },
 "nbformat": 4,
 "nbformat_minor": 2
}
