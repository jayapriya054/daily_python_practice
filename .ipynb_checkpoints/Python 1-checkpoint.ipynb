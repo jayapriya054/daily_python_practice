{
 "cells": [
  {
   "cell_type": "markdown",
   "metadata": {},
   "source": [
    "# STRINGS AND ITS METHODS"
   ]
  },
  {
   "cell_type": "code",
   "execution_count": 5,
   "metadata": {},
   "outputs": [
    {
     "name": "stdout",
     "output_type": "stream",
     "text": [
      "hai\n",
      "Jayapriya\n"
     ]
    }
   ],
   "source": [
    "message='hai'\n",
    "print(message)\n",
    "print(\"Jayapriya\")"
   ]
  },
  {
   "cell_type": "code",
   "execution_count": 4,
   "metadata": {},
   "outputs": [
    {
     "name": "stdout",
     "output_type": "stream",
     "text": [
      "Jayapriya's learning\n",
      "Jayapriya's learning\n",
      "3\n"
     ]
    }
   ],
   "source": [
    "print(\"Jayapriya's learning\")\n",
    "print('Jayapriya\\'s learning')\n",
    "print(len(message))"
   ]
  },
  {
   "cell_type": "code",
   "execution_count": 14,
   "metadata": {},
   "outputs": [
    {
     "name": "stdout",
     "output_type": "stream",
     "text": [
      "11\n",
      "l\n",
      "Hello\n",
      "Hello\n",
      "World\n",
      "World\n"
     ]
    }
   ],
   "source": [
    "message='Hello World' \n",
    "print(len(message)) \n",
    "print(message[3]) \n",
    "print(message[0:5]) \n",
    "print(message[:5]) \n",
    "print(message[6:11]) \n",
    "print(message[6:])\n",
    "\n",
    "\n"
   ]
  },
  {
   "cell_type": "code",
   "execution_count": 18,
   "metadata": {},
   "outputs": [
    {
     "name": "stdout",
     "output_type": "stream",
     "text": [
      "hello world\n",
      "HELLO WORLD\n",
      "1\n",
      "3\n",
      "6\n",
      "-1\n"
     ]
    }
   ],
   "source": [
    "print(message.lower())\n",
    "print(message.upper())\n",
    "print(message.count('Hello'))\n",
    "print(message.count('l'))\n",
    "print(message.find('World'))\n",
    "print(message.find('universe'))"
   ]
  },
  {
   "cell_type": "code",
   "execution_count": 20,
   "metadata": {},
   "outputs": [
    {
     "name": "stdout",
     "output_type": "stream",
     "text": [
      "Hello World\n"
     ]
    }
   ],
   "source": [
    "message=\"Hello World\"\n",
    "message.replace('World','Universe')\n",
    "print(message)\n"
   ]
  },
  {
   "cell_type": "code",
   "execution_count": 22,
   "metadata": {},
   "outputs": [
    {
     "name": "stdout",
     "output_type": "stream",
     "text": [
      "Hello Universe\n"
     ]
    }
   ],
   "source": [
    "message=\"Hello World\"\n",
    "new_message=message.replace('World','Universe')\n",
    "print(new_message)"
   ]
  },
  {
   "cell_type": "markdown",
   "metadata": {},
   "source": [
    "**String concatenation - normal way**"
   ]
  },
  {
   "cell_type": "code",
   "execution_count": 2,
   "metadata": {},
   "outputs": [
    {
     "name": "stdout",
     "output_type": "stream",
     "text": [
      "Hi Jaya\n",
      "Hi Jaya Welcome\n"
     ]
    }
   ],
   "source": [
    "greeting= 'Hi'\n",
    "Name='Jaya'\n",
    "message= greeting +' '+ Name\n",
    "print(message)\n",
    "message= greeting+' '+Name+' '+ 'Welcome'\n",
    "print(message)"
   ]
  },
  {
   "cell_type": "markdown",
   "metadata": {},
   "source": [
    "**String concatenation - \"using place holder\"**"
   ]
  },
  {
   "cell_type": "code",
   "execution_count": 6,
   "metadata": {},
   "outputs": [
    {
     "name": "stdout",
     "output_type": "stream",
     "text": [
      "Hi, Jaya Welcome\n"
     ]
    }
   ],
   "source": [
    "message= greeting+', '+Name+' '+ 'Welcome'\n",
    "message='{}, {} Welcome'.format(greeting,Name)\n",
    "print(message)"
   ]
  },
  {
   "cell_type": "markdown",
   "metadata": {},
   "source": [
    "**String concatenation- \"Using f string\"**"
   ]
  },
  {
   "cell_type": "code",
   "execution_count": 8,
   "metadata": {},
   "outputs": [
    {
     "name": "stdout",
     "output_type": "stream",
     "text": [
      "Hi, Jaya Welcome\n",
      "Hi, JAYA Welcome\n"
     ]
    }
   ],
   "source": [
    "message= greeting+', '+Name+' '+ 'Welcome'\n",
    "message=f'{greeting}, {Name} Welcome'\n",
    "print(message)\n",
    "message=f'{greeting}, {Name.upper()} Welcome'\n",
    "print(message)"
   ]
  },
  {
   "cell_type": "markdown",
   "metadata": {},
   "source": [
    "**mehtods available for the string object message**"
   ]
  },
  {
   "cell_type": "code",
   "execution_count": 10,
   "metadata": {},
   "outputs": [
    {
     "name": "stdout",
     "output_type": "stream",
     "text": [
      "['__add__', '__class__', '__contains__', '__delattr__', '__dir__', '__doc__', '__eq__', '__format__', '__ge__', '__getattribute__', '__getitem__', '__getnewargs__', '__gt__', '__hash__', '__init__', '__init_subclass__', '__iter__', '__le__', '__len__', '__lt__', '__mod__', '__mul__', '__ne__', '__new__', '__reduce__', '__reduce_ex__', '__repr__', '__rmod__', '__rmul__', '__setattr__', '__sizeof__', '__str__', '__subclasshook__', 'capitalize', 'casefold', 'center', 'count', 'encode', 'endswith', 'expandtabs', 'find', 'format', 'format_map', 'index', 'isalnum', 'isalpha', 'isascii', 'isdecimal', 'isdigit', 'isidentifier', 'islower', 'isnumeric', 'isprintable', 'isspace', 'istitle', 'isupper', 'join', 'ljust', 'lower', 'lstrip', 'maketrans', 'partition', 'replace', 'rfind', 'rindex', 'rjust', 'rpartition', 'rsplit', 'rstrip', 'split', 'splitlines', 'startswith', 'strip', 'swapcase', 'title', 'translate', 'upper', 'zfill']\n"
     ]
    }
   ],
   "source": [
    "print(dir(message))"
   ]
  },
  {
   "cell_type": "markdown",
   "metadata": {},
   "source": [
    "## Practice-strings"
   ]
  },
  {
   "cell_type": "code",
   "execution_count": null,
   "metadata": {},
   "outputs": [],
   "source": [
    "flower= 'Rose'\n",
    "Colour= 'Red'\n",
    "print(Colour.lower())\n",
    "Message= flower+' '+'is'+' '+ Colour\n",
    "print (Message)\n",
    "Message= '{} is {}.'.format(flower,Colour)\n",
    "print (Message)\n",
    "Message= f'{flower.upper()} is {Colour.lower()}.'\n",
    "print (Message)\n",
    "Promise='I will defenitely do master\\'s Program'\n",
    "print (Promise)\n",
    "Promise=Promise.replace('I','Jayapriya')\n",
    "print (Promise)\n",
    "print(Promise.count('a'))\n",
    "print(Promise.upper())\n",
    "print(Promise[6])\n",
    "print(Promise[0:14]+' '+Promise[26:])\n",
    "Promise=Promise[0:4]+Promise[4].upper()+Promise[6:]\n",
    "print(Promise)\n",
    "print(Promise.replace('defenitely','surely'))\n",
    "print(Promise.find('Program'))\n",
    "print(len(Promise))"
   ]
  },
  {
   "cell_type": "markdown",
   "metadata": {},
   "source": [
    "## Quiz: Lesson 1 - Strings and its Methods"
   ]
  },
  {
   "cell_type": "markdown",
   "metadata": {},
   "source": [
    "**Q1) Is the code right? If not, correct it.**  \n",
    "       "
   ]
  },
  {
   "cell_type": "markdown",
   "metadata": {},
   "source": [
    "A)"
   ]
  },
  {
   "cell_type": "code",
   "execution_count": 5,
   "metadata": {},
   "outputs": [
    {
     "name": "stdout",
     "output_type": "stream",
     "text": [
      "Jaya's caliber is much more than she ever values\n",
      "Jaya's caliber is much more than she ever values\n"
     ]
    }
   ],
   "source": [
    "#One way\n",
    "message = 'Jaya\\'s caliber is much more than she ever values'\n",
    "print(message)\n",
    "\n",
    "#Alternative way\n",
    "message = \"Jaya's caliber is much more than she ever values\"\n",
    "print(message)"
   ]
  },
  {
   "cell_type": "markdown",
   "metadata": {},
   "source": [
    "B)"
   ]
  },
  {
   "cell_type": "code",
   "execution_count": 7,
   "metadata": {},
   "outputs": [
    {
     "name": "stdout",
     "output_type": "stream",
     "text": [
      "Hello World!\n"
     ]
    }
   ],
   "source": [
    "# 1_message : here the variable starts with numerical, which is invalid\n",
    "message= \"Hello World!\"\n",
    "print(message)"
   ]
  },
  {
   "cell_type": "markdown",
   "metadata": {},
   "source": [
    "**Q2) print the third word of the below string.**"
   ]
  },
  {
   "cell_type": "code",
   "execution_count": 22,
   "metadata": {},
   "outputs": [
    {
     "name": "stdout",
     "output_type": "stream",
     "text": [
      "Souls\n"
     ]
    }
   ],
   "source": [
    "my_string=\"Save our Souls\"\n",
    "print(my_string[9:])"
   ]
  },
  {
   "cell_type": "markdown",
   "metadata": {},
   "source": [
    "**Q3) Print untill the last letter of the given string.**"
   ]
  },
  {
   "cell_type": "code",
   "execution_count": 27,
   "metadata": {},
   "outputs": [
    {
     "name": "stdout",
     "output_type": "stream",
     "text": [
      "Just amazin\n",
      "Just amazin\n"
     ]
    }
   ],
   "source": [
    "# In python, starting index is inclusive, ending index is exclusive\n",
    "#consider 0 from start, -1 from end.\n",
    "my_string=\"Just amazing\"\n",
    "print(my_string[:11])\n",
    "print(my_string[:-1])"
   ]
  },
  {
   "cell_type": "markdown",
   "metadata": {},
   "source": [
    "**Q3) Correct the code. I need to print 'Just amaz'**"
   ]
  },
  {
   "cell_type": "code",
   "execution_count": 28,
   "metadata": {},
   "outputs": [
    {
     "name": "stdout",
     "output_type": "stream",
     "text": [
      "Just amaz\n"
     ]
    }
   ],
   "source": [
    "my_string=\"Just amazing\"\n",
    "print(my_string[:-3])"
   ]
  },
  {
   "cell_type": "markdown",
   "metadata": {},
   "source": [
    "**Q4) Print a sentence using the words. The sentence must be in UPPERCASE.**"
   ]
  },
  {
   "cell_type": "code",
   "execution_count": 36,
   "metadata": {},
   "outputs": [
    {
     "name": "stdout",
     "output_type": "stream",
     "text": [
      "HELP ME LEARN PROGRAMMING!\n",
      "HELP mE LeArn ProgramMing!\n",
      "HELP mE learn ProgramMing!\n"
     ]
    }
   ],
   "source": [
    "first_word='Help'\n",
    "second_word='mE'\n",
    "third_word='LeArn'\n",
    "fourth_word='ProgramMing!'\n",
    "print(first_word.upper()+\" \"+second_word.upper()+\" \"+third_word.upper()+\" \"+fourth_word.upper())\n",
    "\n",
    "#using placeholder\n",
    "sentence= '{} {} {} {}'.format(first_word.upper(),second_word,third_word,fourth_word)\n",
    "print(sentence)\n",
    "\n",
    "#using f string\n",
    "sentence= f'{first_word.upper()} {second_word} {third_word.lower()} {fourth_word}'\n",
    "print(sentence)\n"
   ]
  },
  {
   "cell_type": "markdown",
   "metadata": {},
   "source": [
    "**Q5) Count the frequency of the pattern 'ely' in the given paragraph. And replace the pattern as 'FOUND'.**"
   ]
  },
  {
   "cell_type": "code",
   "execution_count": 45,
   "metadata": {},
   "outputs": [],
   "source": [
    "my_para=\"njsnfiusnfisjfiusdelyfnjsnelydisjdelynfiuefamdioafiusnkjzjnselyjbfueniajjnjgnisnofanisnfnsdjfweiunfnsnckkjsnfelyiwnfisnosjsdv sdbfelyienfiwns ksd vsndinfosnkncskjdsknelyfoiscksdnvsnfiosenfosnsnv\""
   ]
  },
  {
   "cell_type": "code",
   "execution_count": 47,
   "metadata": {},
   "outputs": [
    {
     "name": "stdout",
     "output_type": "stream",
     "text": [
      "7\n",
      "njsnfiusnfisjfiusdFOUNDfnjsnFOUNDdisjdFOUNDnfiuefamdioafiusnkjzjnsFOUNDjbfueniajjnjgnisnofanisnfnsdjfweiunfnsnckkjsnfFOUNDiwnfisnosjsdv sdbfFOUNDienfiwns ksd vsndinfosnkncskjdsknFOUNDfoiscksdnvsnfiosenfosnsnv\n"
     ]
    }
   ],
   "source": [
    "print(my_para.count(\"ely\"))\n",
    "print(my_para.replace(\"ely\", \"FOUND\"))"
   ]
  },
  {
   "cell_type": "markdown",
   "metadata": {},
   "source": [
    "# INTEGERS AND FLOATS"
   ]
  },
  {
   "cell_type": "code",
   "execution_count": 25,
   "metadata": {},
   "outputs": [
    {
     "name": "stdout",
     "output_type": "stream",
     "text": [
      "1.5\n",
      "3\n",
      "9\n",
      "1\n",
      "9\n",
      "1\n",
      "<class 'int'>\n",
      "9\n"
     ]
    }
   ],
   "source": [
    "#  Some arithmetic operator\n",
    "#Floor Division=3//2 \n",
    "#Exponent=3**2 \n",
    "#Modulus= 3%2 \n",
    "# Note: Object name should be in single word\n",
    "print(3/2 )\n",
    "print(7//2 )\n",
    "print(3**2)\n",
    "print(7%2 )\n",
    "Exponent=3**2 \n",
    "print(Exponent)\n",
    "Floor_Division=3//2 \n",
    "print(Floor_Division)\n",
    "print(type(Exponent))\n",
    "print(pow(3,2))\n"
   ]
  },
  {
   "cell_type": "code",
   "execution_count": 22,
   "metadata": {},
   "outputs": [
    {
     "name": "stdout",
     "output_type": "stream",
     "text": [
      "20 5\n",
      "2\n",
      "10\n",
      "-3\n",
      "9.88\n"
     ]
    }
   ],
   "source": [
    "a= 2+3*6\n",
    "b=2+(3*1)\n",
    "print(a,b)\n",
    "#increment operator\n",
    "num=1\n",
    "num+=1 \n",
    "print(num)\n",
    "#absolute value\n",
    "print(abs(-10))\n",
    "#round function\n",
    "print(round(-3.49))\n",
    "#round of to the required position \n",
    "print(round(9.879,2))"
   ]
  },
  {
   "cell_type": "code",
   "execution_count": 23,
   "metadata": {},
   "outputs": [
    {
     "name": "stdout",
     "output_type": "stream",
     "text": [
      "False\n",
      "True\n",
      "True\n"
     ]
    }
   ],
   "source": [
    "# Relational/ Comparission operator- result is boolean\n",
    "a=4\n",
    "b=5\n",
    "print(a>b)\n",
    "print(a!=b)\n",
    "print(a<b)"
   ]
  },
  {
   "cell_type": "code",
   "execution_count": null,
   "metadata": {},
   "outputs": [],
   "source": []
  }
 ],
 "metadata": {
  "kernelspec": {
   "display_name": "Python 3",
   "language": "python",
   "name": "python3"
  },
  "language_info": {
   "codemirror_mode": {
    "name": "ipython",
    "version": 3
   },
   "file_extension": ".py",
   "mimetype": "text/x-python",
   "name": "python",
   "nbconvert_exporter": "python",
   "pygments_lexer": "ipython3",
   "version": "3.7.6"
  }
 },
 "nbformat": 4,
 "nbformat_minor": 4
}
