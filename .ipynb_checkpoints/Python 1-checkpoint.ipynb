{
 "cells": [
  {
   "cell_type": "markdown",
   "metadata": {},
   "source": [
    "## STRINGS AND ITS METHODS"
   ]
  },
  {
   "cell_type": "code",
   "execution_count": 5,
   "metadata": {},
   "outputs": [
    {
     "name": "stdout",
     "output_type": "stream",
     "text": [
      "hai\n",
      "Jayapriya\n"
     ]
    }
   ],
   "source": [
    "message='hai'\n",
    "print(message)\n",
    "print(\"Jayapriya\")"
   ]
  },
  {
   "cell_type": "code",
   "execution_count": 4,
   "metadata": {},
   "outputs": [
    {
     "name": "stdout",
     "output_type": "stream",
     "text": [
      "Jayapriya's learning\n",
      "Jayapriya's learning\n",
      "3\n"
     ]
    }
   ],
   "source": [
    "print(\"Jayapriya's learning\")\n",
    "print('Jayapriya\\'s learning')\n",
    "print(len(message))"
   ]
  },
  {
   "cell_type": "code",
   "execution_count": 14,
   "metadata": {},
   "outputs": [
    {
     "name": "stdout",
     "output_type": "stream",
     "text": [
      "11\n",
      "l\n",
      "Hello\n",
      "Hello\n",
      "World\n",
      "World\n"
     ]
    }
   ],
   "source": [
    "message='Hello World' \n",
    "print(len(message)) \n",
    "print(message[3]) \n",
    "print(message[0:5]) \n",
    "print(message[:5]) \n",
    "print(message[6:11]) \n",
    "print(message[6:])\n",
    "\n",
    "\n"
   ]
  },
  {
   "cell_type": "code",
   "execution_count": 18,
   "metadata": {},
   "outputs": [
    {
     "name": "stdout",
     "output_type": "stream",
     "text": [
      "hello world\n",
      "HELLO WORLD\n",
      "1\n",
      "3\n",
      "6\n",
      "-1\n"
     ]
    }
   ],
   "source": [
    "print(message.lower())\n",
    "print(message.upper())\n",
    "print(message.count('Hello'))\n",
    "print(message.count('l'))\n",
    "print(message.find('World'))\n",
    "print(message.find('universe'))"
   ]
  },
  {
   "cell_type": "code",
   "execution_count": 20,
   "metadata": {},
   "outputs": [
    {
     "name": "stdout",
     "output_type": "stream",
     "text": [
      "Hello World\n"
     ]
    }
   ],
   "source": [
    "message=\"Hello World\"\n",
    "message.replace('World','Universe')\n",
    "print(message)\n"
   ]
  },
  {
   "cell_type": "code",
   "execution_count": 22,
   "metadata": {},
   "outputs": [
    {
     "name": "stdout",
     "output_type": "stream",
     "text": [
      "Hello Universe\n"
     ]
    }
   ],
   "source": [
    "message=\"Hello World\"\n",
    "new_message=message.replace('World','Universe')\n",
    "print(new_message)"
   ]
  },
  {
   "cell_type": "markdown",
   "metadata": {},
   "source": [
    "**String concatenation - normal way**"
   ]
  },
  {
   "cell_type": "code",
   "execution_count": 2,
   "metadata": {},
   "outputs": [
    {
     "name": "stdout",
     "output_type": "stream",
     "text": [
      "Hi Jaya\n",
      "Hi Jaya Welcome\n"
     ]
    }
   ],
   "source": [
    "greeting= 'Hi'\n",
    "Name='Jaya'\n",
    "message= greeting +' '+ Name\n",
    "print(message)\n",
    "message= greeting+' '+Name+' '+ 'Welcome'\n",
    "print(message)"
   ]
  },
  {
   "cell_type": "markdown",
   "metadata": {},
   "source": [
    "**String concatenation - \"using place holder\"**"
   ]
  },
  {
   "cell_type": "code",
   "execution_count": 6,
   "metadata": {},
   "outputs": [
    {
     "name": "stdout",
     "output_type": "stream",
     "text": [
      "Hi, Jaya Welcome\n"
     ]
    }
   ],
   "source": [
    "message= greeting+', '+Name+' '+ 'Welcome'\n",
    "message='{}, {} Welcome'.format(greeting,Name)\n",
    "print(message)"
   ]
  },
  {
   "cell_type": "markdown",
   "metadata": {},
   "source": [
    "**String concatenation- \"Using f string\"**"
   ]
  },
  {
   "cell_type": "code",
   "execution_count": 8,
   "metadata": {},
   "outputs": [
    {
     "name": "stdout",
     "output_type": "stream",
     "text": [
      "Hi, Jaya Welcome\n",
      "Hi, JAYA Welcome\n"
     ]
    }
   ],
   "source": [
    "message= greeting+', '+Name+' '+ 'Welcome'\n",
    "message=f'{greeting}, {Name} Welcome'\n",
    "print(message)\n",
    "message=f'{greeting}, {Name.upper()} Welcome'\n",
    "print(message)"
   ]
  },
  {
   "cell_type": "markdown",
   "metadata": {},
   "source": [
    "**mehtods available for the string object message**"
   ]
  },
  {
   "cell_type": "code",
   "execution_count": 10,
   "metadata": {},
   "outputs": [
    {
     "name": "stdout",
     "output_type": "stream",
     "text": [
      "['__add__', '__class__', '__contains__', '__delattr__', '__dir__', '__doc__', '__eq__', '__format__', '__ge__', '__getattribute__', '__getitem__', '__getnewargs__', '__gt__', '__hash__', '__init__', '__init_subclass__', '__iter__', '__le__', '__len__', '__lt__', '__mod__', '__mul__', '__ne__', '__new__', '__reduce__', '__reduce_ex__', '__repr__', '__rmod__', '__rmul__', '__setattr__', '__sizeof__', '__str__', '__subclasshook__', 'capitalize', 'casefold', 'center', 'count', 'encode', 'endswith', 'expandtabs', 'find', 'format', 'format_map', 'index', 'isalnum', 'isalpha', 'isascii', 'isdecimal', 'isdigit', 'isidentifier', 'islower', 'isnumeric', 'isprintable', 'isspace', 'istitle', 'isupper', 'join', 'ljust', 'lower', 'lstrip', 'maketrans', 'partition', 'replace', 'rfind', 'rindex', 'rjust', 'rpartition', 'rsplit', 'rstrip', 'split', 'splitlines', 'startswith', 'strip', 'swapcase', 'title', 'translate', 'upper', 'zfill']\n"
     ]
    }
   ],
   "source": [
    "print(dir(message))"
   ]
  }
 ],
 "metadata": {
  "kernelspec": {
   "display_name": "Python 3",
   "language": "python",
   "name": "python3"
  },
  "language_info": {
   "codemirror_mode": {
    "name": "ipython",
    "version": 3
   },
   "file_extension": ".py",
   "mimetype": "text/x-python",
   "name": "python",
   "nbconvert_exporter": "python",
   "pygments_lexer": "ipython3",
   "version": "3.7.6"
  }
 },
 "nbformat": 4,
 "nbformat_minor": 4
}
