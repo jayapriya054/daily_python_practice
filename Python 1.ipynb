{
 "cells": [
  {
   "cell_type": "markdown",
   "metadata": {},
   "source": [
    "# STRINGS AND ITS METHODS"
   ]
  },
  {
   "cell_type": "code",
   "execution_count": 5,
   "metadata": {},
   "outputs": [
    {
     "name": "stdout",
     "output_type": "stream",
     "text": [
      "hai\n",
      "Jayapriya\n"
     ]
    }
   ],
   "source": [
    "message='hai'\n",
    "print(message)\n",
    "print(\"Jayapriya\")"
   ]
  },
  {
   "cell_type": "code",
   "execution_count": 4,
   "metadata": {},
   "outputs": [
    {
     "name": "stdout",
     "output_type": "stream",
     "text": [
      "Jayapriya's learning\n",
      "Jayapriya's learning\n",
      "3\n"
     ]
    }
   ],
   "source": [
    "print(\"Jayapriya's learning\")\n",
    "print('Jayapriya\\'s learning')\n",
    "print(len(message))"
   ]
  },
  {
   "cell_type": "code",
   "execution_count": 10,
   "metadata": {},
   "outputs": [
    {
     "name": "stdout",
     "output_type": "stream",
     "text": [
      "11\n",
      "l\n",
      "Hello\n",
      "Hello\n",
      "World\n",
      "World\n"
     ]
    }
   ],
   "source": [
    "message='Hello World' \n",
    "print(len(message)) \n",
    "print(message[3]) \n",
    "print(message[0:5]) \n",
    "print(message[:5]) \n",
    "print(message[6:11]) \n",
    "print(message[6:])\n"
   ]
  },
  {
   "cell_type": "code",
   "execution_count": 15,
   "metadata": {},
   "outputs": [
    {
     "name": "stdout",
     "output_type": "stream",
     "text": [
      "hello world\n",
      "HELLO WORLD\n",
      "1\n",
      "3\n",
      "6\n",
      "-1\n"
     ]
    }
   ],
   "source": [
    "print(message.lower())\n",
    "print(message.upper())\n",
    "print(message.count('Hello'))\n",
    "print(message.count('l'))\n",
    "print(message.find('World'))\n",
    "print(message.find('universe'))\n"
   ]
  },
  {
   "cell_type": "code",
   "execution_count": 20,
   "metadata": {},
   "outputs": [
    {
     "name": "stdout",
     "output_type": "stream",
     "text": [
      "Hello World\n"
     ]
    }
   ],
   "source": [
    "message=\"Hello World\"\n",
    "message.replace('World','Universe')\n",
    "print(message)\n"
   ]
  },
  {
   "cell_type": "code",
   "execution_count": 22,
   "metadata": {},
   "outputs": [
    {
     "name": "stdout",
     "output_type": "stream",
     "text": [
      "Hello Universe\n"
     ]
    }
   ],
   "source": [
    "message=\"Hello World\"\n",
    "new_message=message.replace('World','Universe')\n",
    "print(new_message)"
   ]
  },
  {
   "cell_type": "markdown",
   "metadata": {},
   "source": [
    "**String concatenation - normal way**"
   ]
  },
  {
   "cell_type": "code",
   "execution_count": 2,
   "metadata": {},
   "outputs": [
    {
     "name": "stdout",
     "output_type": "stream",
     "text": [
      "Hi Jaya\n",
      "Hi Jaya Welcome\n"
     ]
    }
   ],
   "source": [
    "greeting= 'Hi'\n",
    "Name='Jaya'\n",
    "message= greeting +' '+ Name\n",
    "print(message)\n",
    "message= greeting+' '+Name+' '+ 'Welcome'\n",
    "print(message)"
   ]
  },
  {
   "cell_type": "markdown",
   "metadata": {},
   "source": [
    "**String concatenation - \"using place holder\"**"
   ]
  },
  {
   "cell_type": "code",
   "execution_count": 6,
   "metadata": {},
   "outputs": [
    {
     "name": "stdout",
     "output_type": "stream",
     "text": [
      "Hi, Jaya Welcome\n"
     ]
    }
   ],
   "source": [
    "message= greeting+', '+Name+' '+ 'Welcome'\n",
    "message='{}, {} Welcome'.format(greeting,Name)\n",
    "print(message)"
   ]
  },
  {
   "cell_type": "markdown",
   "metadata": {},
   "source": [
    "**String concatenation- \"Using f string\"**"
   ]
  },
  {
   "cell_type": "code",
   "execution_count": 8,
   "metadata": {},
   "outputs": [
    {
     "name": "stdout",
     "output_type": "stream",
     "text": [
      "Hi, Jaya Welcome\n",
      "Hi, JAYA Welcome\n"
     ]
    }
   ],
   "source": [
    "message= greeting+', '+Name+' '+ 'Welcome'\n",
    "message=f'{greeting}, {Name} Welcome'\n",
    "print(message)\n",
    "message=f'{greeting}, {Name.upper()} Welcome'\n",
    "print(message)"
   ]
  },
  {
   "cell_type": "markdown",
   "metadata": {},
   "source": [
    "**mehtods available for the string object message**"
   ]
  },
  {
   "cell_type": "code",
   "execution_count": 10,
   "metadata": {},
   "outputs": [
    {
     "name": "stdout",
     "output_type": "stream",
     "text": [
      "['__add__', '__class__', '__contains__', '__delattr__', '__dir__', '__doc__', '__eq__', '__format__', '__ge__', '__getattribute__', '__getitem__', '__getnewargs__', '__gt__', '__hash__', '__init__', '__init_subclass__', '__iter__', '__le__', '__len__', '__lt__', '__mod__', '__mul__', '__ne__', '__new__', '__reduce__', '__reduce_ex__', '__repr__', '__rmod__', '__rmul__', '__setattr__', '__sizeof__', '__str__', '__subclasshook__', 'capitalize', 'casefold', 'center', 'count', 'encode', 'endswith', 'expandtabs', 'find', 'format', 'format_map', 'index', 'isalnum', 'isalpha', 'isascii', 'isdecimal', 'isdigit', 'isidentifier', 'islower', 'isnumeric', 'isprintable', 'isspace', 'istitle', 'isupper', 'join', 'ljust', 'lower', 'lstrip', 'maketrans', 'partition', 'replace', 'rfind', 'rindex', 'rjust', 'rpartition', 'rsplit', 'rstrip', 'split', 'splitlines', 'startswith', 'strip', 'swapcase', 'title', 'translate', 'upper', 'zfill']\n"
     ]
    }
   ],
   "source": [
    "print(dir(message))"
   ]
  },
  {
   "cell_type": "markdown",
   "metadata": {},
   "source": [
    "## Practice-strings"
   ]
  },
  {
   "cell_type": "code",
   "execution_count": null,
   "metadata": {},
   "outputs": [],
   "source": [
    "flower= 'Rose'\n",
    "Colour= 'Red'\n",
    "print(Colour.lower())\n",
    "Message= flower+' '+'is'+' '+ Colour\n",
    "print (Message)\n",
    "Message= '{} is {}.'.format(flower,Colour)\n",
    "print (Message)\n",
    "Message= f'{flower.upper()} is {Colour.lower()}.'\n",
    "print (Message)\n",
    "Promise='I will defenitely do master\\'s Program'\n",
    "print (Promise)\n",
    "Promise=Promise.replace('I','Jayapriya')\n",
    "print (Promise)\n",
    "print(Promise.count('a'))\n",
    "print(Promise.upper())\n",
    "print(Promise[6])\n",
    "print(Promise[0:14]+' '+Promise[26:])\n",
    "Promise=Promise[0:4]+Promise[4].upper()+Promise[6:]\n",
    "print(Promise)\n",
    "print(Promise.replace('defenitely','surely'))\n",
    "print(Promise.find('Program'))\n",
    "print(len(Promise))"
   ]
  },
  {
   "cell_type": "markdown",
   "metadata": {},
   "source": [
    "## Quiz: Lesson 1 - Strings and its Methods"
   ]
  },
  {
   "cell_type": "markdown",
   "metadata": {},
   "source": [
    "**Q1) Is the code right? If not, correct it.**  \n",
    "       "
   ]
  },
  {
   "cell_type": "markdown",
   "metadata": {},
   "source": [
    "A)"
   ]
  },
  {
   "cell_type": "code",
   "execution_count": 5,
   "metadata": {},
   "outputs": [
    {
     "name": "stdout",
     "output_type": "stream",
     "text": [
      "Jaya's caliber is much more than she ever values\n",
      "Jaya's caliber is much more than she ever values\n"
     ]
    }
   ],
   "source": [
    "#One way\n",
    "message = 'Jaya\\'s caliber is much more than she ever values'\n",
    "print(message)\n",
    "\n",
    "#Alternative way\n",
    "message = \"Jaya's caliber is much more than she ever values\"\n",
    "print(message)"
   ]
  },
  {
   "cell_type": "markdown",
   "metadata": {},
   "source": [
    "B)"
   ]
  },
  {
   "cell_type": "code",
   "execution_count": 7,
   "metadata": {},
   "outputs": [
    {
     "name": "stdout",
     "output_type": "stream",
     "text": [
      "Hello World!\n"
     ]
    }
   ],
   "source": [
    "# 1_message : here the variable starts with numerical, which is invalid\n",
    "message= \"Hello World!\"\n",
    "print(message)"
   ]
  },
  {
   "cell_type": "markdown",
   "metadata": {},
   "source": [
    "**Q2) print the third word of the below string.**"
   ]
  },
  {
   "cell_type": "code",
   "execution_count": 22,
   "metadata": {},
   "outputs": [
    {
     "name": "stdout",
     "output_type": "stream",
     "text": [
      "Souls\n"
     ]
    }
   ],
   "source": [
    "my_string=\"Save our Souls\"\n",
    "print(my_string[9:])"
   ]
  },
  {
   "cell_type": "markdown",
   "metadata": {},
   "source": [
    "**Q3) Print untill the last letter of the given string.**"
   ]
  },
  {
   "cell_type": "code",
   "execution_count": 27,
   "metadata": {},
   "outputs": [
    {
     "name": "stdout",
     "output_type": "stream",
     "text": [
      "Just amazin\n",
      "Just amazin\n"
     ]
    }
   ],
   "source": [
    "# In python, starting index is inclusive, ending index is exclusive\n",
    "#consider 0 from start, -1 from end.\n",
    "my_string=\"Just amazing\"\n",
    "print(my_string[:11])\n",
    "print(my_string[:-1])"
   ]
  },
  {
   "cell_type": "markdown",
   "metadata": {},
   "source": [
    "**Q3) Correct the code. I need to print 'Just amaz'**"
   ]
  },
  {
   "cell_type": "code",
   "execution_count": 28,
   "metadata": {},
   "outputs": [
    {
     "name": "stdout",
     "output_type": "stream",
     "text": [
      "Just amaz\n"
     ]
    }
   ],
   "source": [
    "my_string=\"Just amazing\"\n",
    "print(my_string[:-3])"
   ]
  },
  {
   "cell_type": "markdown",
   "metadata": {},
   "source": [
    "**Q4) Print a sentence using the words. The sentence must be in UPPERCASE.**"
   ]
  },
  {
   "cell_type": "code",
   "execution_count": 36,
   "metadata": {},
   "outputs": [
    {
     "name": "stdout",
     "output_type": "stream",
     "text": [
      "HELP ME LEARN PROGRAMMING!\n",
      "HELP mE LeArn ProgramMing!\n",
      "HELP mE learn ProgramMing!\n"
     ]
    }
   ],
   "source": [
    "first_word='Help'\n",
    "second_word='mE'\n",
    "third_word='LeArn'\n",
    "fourth_word='ProgramMing!'\n",
    "print(first_word.upper()+\" \"+second_word.upper()+\" \"+third_word.upper()+\" \"+fourth_word.upper())\n",
    "\n",
    "#using placeholder\n",
    "sentence= '{} {} {} {}'.format(first_word.upper(),second_word,third_word,fourth_word)\n",
    "print(sentence)\n",
    "\n",
    "#using f string\n",
    "sentence= f'{first_word.upper()} {second_word} {third_word.lower()} {fourth_word}'\n",
    "print(sentence)\n"
   ]
  },
  {
   "cell_type": "markdown",
   "metadata": {},
   "source": [
    "**Q5) Count the frequency of the pattern 'ely' in the given paragraph. And replace the pattern as 'FOUND'.**"
   ]
  },
  {
   "cell_type": "code",
   "execution_count": 45,
   "metadata": {},
   "outputs": [],
   "source": [
    "my_para=\"njsnfiusnfisjfiusdelyfnjsnelydisjdelynfiuefamdioafiusnkjzjnselyjbfueniajjnjgnisnofanisnfnsdjfweiunfnsnckkjsnfelyiwnfisnosjsdv sdbfelyienfiwns ksd vsndinfosnkncskjdsknelyfoiscksdnvsnfiosenfosnsnv\""
   ]
  },
  {
   "cell_type": "code",
   "execution_count": 47,
   "metadata": {},
   "outputs": [
    {
     "name": "stdout",
     "output_type": "stream",
     "text": [
      "7\n",
      "njsnfiusnfisjfiusdFOUNDfnjsnFOUNDdisjdFOUNDnfiuefamdioafiusnkjzjnsFOUNDjbfueniajjnjgnisnofanisnfnsdjfweiunfnsnckkjsnfFOUNDiwnfisnosjsdv sdbfFOUNDienfiwns ksd vsndinfosnkncskjdsknFOUNDfoiscksdnvsnfiosenfosnsnv\n"
     ]
    }
   ],
   "source": [
    "print(my_para.count(\"ely\"))\n",
    "print(my_para.replace(\"ely\", \"FOUND\"))"
   ]
  },
  {
   "cell_type": "markdown",
   "metadata": {},
   "source": [
    "# INTEGERS AND FLOATS"
   ]
  },
  {
   "cell_type": "code",
   "execution_count": 25,
   "metadata": {},
   "outputs": [
    {
     "name": "stdout",
     "output_type": "stream",
     "text": [
      "1.5\n",
      "3\n",
      "9\n",
      "1\n",
      "9\n",
      "1\n",
      "<class 'int'>\n",
      "9\n"
     ]
    }
   ],
   "source": [
    "#  Some arithmetic operator\n",
    "#Floor Division=3//2 \n",
    "#Exponent=3**2 \n",
    "#Modulus= 3%2 \n",
    "# Note: Object name should be in single word\n",
    "print(3/2 )\n",
    "print(7//2 )\n",
    "print(3**2)\n",
    "print(7%2 )\n",
    "Exponent=3**2 \n",
    "print(Exponent)\n",
    "Floor_Division=3//2 \n",
    "print(Floor_Division)\n",
    "print(type(Exponent))\n",
    "print(pow(3,2))\n"
   ]
  },
  {
   "cell_type": "code",
   "execution_count": 22,
   "metadata": {},
   "outputs": [
    {
     "name": "stdout",
     "output_type": "stream",
     "text": [
      "20 5\n",
      "2\n",
      "10\n",
      "-3\n",
      "9.88\n"
     ]
    }
   ],
   "source": [
    "a= 2+3*6\n",
    "b=2+(3*1)\n",
    "print(a,b)\n",
    "#increment operator\n",
    "num=1\n",
    "num+=1 \n",
    "print(num)\n",
    "#absolute value\n",
    "print(abs(-10))\n",
    "#round function\n",
    "print(round(-3.49))\n",
    "#round of to the required position \n",
    "print(round(9.879,2))"
   ]
  },
  {
   "cell_type": "code",
   "execution_count": 23,
   "metadata": {},
   "outputs": [
    {
     "name": "stdout",
     "output_type": "stream",
     "text": [
      "False\n",
      "True\n",
      "True\n"
     ]
    }
   ],
   "source": [
    "# Relational/ Comparission operator- result is boolean\n",
    "a=4\n",
    "b=5\n",
    "print(a>b)\n",
    "print(a!=b)\n",
    "print(a<b)"
   ]
  },
  {
   "cell_type": "code",
   "execution_count": 27,
   "metadata": {},
   "outputs": [
    {
     "name": "stdout",
     "output_type": "stream",
     "text": [
      "45\n",
      "9\n"
     ]
    }
   ],
   "source": [
    "#Casting to avoild confusion betwene string and integer concat\n",
    "a='4'\n",
    "b='5'\n",
    "print(a+b)\n",
    "a=int(a)\n",
    "b=int(b)\n",
    "print(a+b)"
   ]
  },
  {
   "cell_type": "markdown",
   "metadata": {},
   "source": [
    "## LISTS, TUPLES AND SETS"
   ]
  },
  {
   "cell_type": "code",
   "execution_count": 45,
   "metadata": {},
   "outputs": [
    {
     "name": "stdout",
     "output_type": "stream",
     "text": [
      "['red', 'black', 'blue', 'orange']\n",
      "2\n",
      "True\n",
      "4\n",
      "blue\n",
      "orange\n",
      "['red', 'black']\n"
     ]
    }
   ],
   "source": [
    "Colour = ['red','black','blue','orange']\n",
    "print(Colour)\n",
    "print(Colour.index('blue'))\n",
    "print('blue'in Colour)\n",
    "print(len(Colour))\n",
    "print(Colour[2])\n",
    "print(Colour[-1])\n",
    "print(Colour[0:2])\n"
   ]
  },
  {
   "cell_type": "markdown",
   "metadata": {},
   "source": [
    "**List Methods**\n"
   ]
  },
  {
   "cell_type": "code",
   "execution_count": 67,
   "metadata": {},
   "outputs": [
    {
     "name": "stdout",
     "output_type": "stream",
     "text": [
      "['red', 'black', 'blue', 'Pink']\n",
      "['Pink', 'red', 'black', 'blue', 'Pink']\n"
     ]
    }
   ],
   "source": [
    "# using append method- to add at last\n",
    "colour = ['red','black','blue','orange']\n",
    "colour.append('Pink')\n",
    "colour.remove('orange')\n",
    "print(colour)\n",
    "colour.insert(0,'Pink')\n",
    "print(colour)\n",
    "\n"
   ]
  },
  {
   "cell_type": "code",
   "execution_count": 20,
   "metadata": {},
   "outputs": [
    {
     "name": "stdout",
     "output_type": "stream",
     "text": [
      "[['yellow', 'brown'], 'red', 'black', 'blue', 'orange']\n"
     ]
    }
   ],
   "source": [
    "# using insert option - to insert anywhere\n",
    "colour = ['red','black','blue','orange']\n",
    "colour_1= ['yellow', 'brown']\n",
    "colour.insert(0,colour_1)\n",
    "print(colour)\n"
   ]
  },
  {
   "cell_type": "code",
   "execution_count": 25,
   "metadata": {},
   "outputs": [
    {
     "name": "stdout",
     "output_type": "stream",
     "text": [
      "['red', 'black', 'blue', 'orange', 'yellow', 'brown']\n"
     ]
    }
   ],
   "source": [
    "# using extend option- to add more than 1 item\n",
    "colour = ['red','black','blue','orange']\n",
    "colour.extend(colour_1)\n",
    "print(colour)"
   ]
  },
  {
   "cell_type": "code",
   "execution_count": 39,
   "metadata": {},
   "outputs": [
    {
     "name": "stdout",
     "output_type": "stream",
     "text": [
      "['red', 'black', 'blue', 'orange']\n",
      "['red', 'black', 'blue']\n",
      "orange\n"
     ]
    }
   ],
   "source": [
    "#using pop method deletes the item available at last in the listcolour.remove('black')\n",
    "colour = ['red','black','blue','orange']\n",
    "print(colour)\n",
    "popped = colour.pop()\n",
    "print(colour)\n",
    "print(popped)\n"
   ]
  },
  {
   "cell_type": "code",
   "execution_count": 32,
   "metadata": {},
   "outputs": [
    {
     "name": "stdout",
     "output_type": "stream",
     "text": [
      "['black', 'blue', 'orange', 'red']\n",
      "['red', 'orange', 'blue', 'black']\n"
     ]
    }
   ],
   "source": [
    "colour = ['red','black','blue','orange']\n",
    "colour.sort()\n",
    "print(colour)\n",
    "colour.reverse()\n",
    "print(colour)"
   ]
  },
  {
   "cell_type": "code",
   "execution_count": 37,
   "metadata": {},
   "outputs": [
    {
     "name": "stdout",
     "output_type": "stream",
     "text": [
      "[7, 6, 5, 3, 1, 0]\n",
      "[7, 6, 5, 3, 1, 0]\n"
     ]
    }
   ],
   "source": [
    "num=[7,0,6,5,1,3,]\n",
    "# to get descenring order- sort and then reverse\n",
    "num.sort()\n",
    "num.reverse()\n",
    "print(num)\n",
    "# 2nd method- in single step\n",
    "num=[7,0,6,5,1,3,]\n",
    "num.sort(reverse=True)\n",
    "print(num)"
   ]
  },
  {
   "cell_type": "code",
   "execution_count": 38,
   "metadata": {},
   "outputs": [
    {
     "name": "stdout",
     "output_type": "stream",
     "text": [
      "['black', 'blue', 'orange', 'red']\n"
     ]
    }
   ],
   "source": [
    "#sorting without changing the original list.\n",
    "new_colour= sorted(colour).\n",
    "print(new_colour)"
   ]
  },
  {
   "cell_type": "code",
   "execution_count": 42,
   "metadata": {},
   "outputs": [
    {
     "name": "stdout",
     "output_type": "stream",
     "text": [
      "0\n",
      "7\n",
      "22\n"
     ]
    }
   ],
   "source": [
    "num=[7,0,6,5,1,3,]\n",
    "print(min(num))\n",
    "print(max(num))\n",
    "print(sum(num))\n"
   ]
  },
  {
   "cell_type": "code",
   "execution_count": 33,
   "metadata": {},
   "outputs": [
    {
     "name": "stdout",
     "output_type": "stream",
     "text": [
      "red\n",
      "black\n",
      "blue\n"
     ]
    }
   ],
   "source": [
    "#for loop\n",
    "colour = ['red','black','blue','orange']\n",
    "\n",
    "for item in colour:\n",
    "    print(item)\n",
    "    if item == 'blue':\n",
    "        break  \n",
    "\n",
    "# for <operator> in <pool>:colou"
   ]
  },
  {
   "cell_type": "code",
   "execution_count": 36,
   "metadata": {},
   "outputs": [
    {
     "name": "stdout",
     "output_type": "stream",
     "text": [
      "0 red\n",
      "1 black\n",
      "2 blue\n",
      "3 orange\n",
      "1 red\n",
      "2 black\n",
      "3 blue\n",
      "4 orange\n"
     ]
    }
   ],
   "source": [
    "# Enumerate function to get the index value\n",
    "colour = ['red','black','blue','orange']\n",
    "for index, item in enumerate (colour):\n",
    " print(index,item)\n",
    "# to start with 1\n",
    "colour = ['red','black','blue','orange']\n",
    "for index, item in enumerate (colour,start=1):\n",
    " print(index,item)"
   ]
  },
  {
   "cell_type": "code",
   "execution_count": null,
   "metadata": {},
   "outputs": [],
   "source": []
  },
  {
   "cell_type": "code",
   "execution_count": 63,
   "metadata": {},
   "outputs": [
    {
     "name": "stdout",
     "output_type": "stream",
     "text": [
      "red, black, blue, orange\n",
      "['red', ' black', ' blue', ' orange']\n"
     ]
    }
   ],
   "source": [
    "# join method- to get string version of list\n",
    "colour = ['red','black','blue','orange']\n",
    "colour_1= ', '.join(colour)\n",
    "print(colour_1)\n",
    "#split method - list from string\n",
    "colour_2= colour_1.split(',')\n",
    "print(colour_2)"
   ]
  },
  {
   "cell_type": "markdown",
   "metadata": {},
   "source": [
    " **TUPLES () are immutable- unmodified unlike lists but all the actions can be performed like lists**"
   ]
  },
  {
   "cell_type": "code",
   "execution_count": 68,
   "metadata": {},
   "outputs": [
    {
     "name": "stdout",
     "output_type": "stream",
     "text": [
      "['red', 'black', 'blue', 'orange']\n",
      "['red', 'black', 'blue', 'orange']\n",
      "['pink', 'black', 'blue', 'orange']\n",
      "['pink', 'black', 'blue', 'orange']\n",
      "('red', 'black', 'blue', 'orange')\n",
      "('red', 'black', 'blue', 'orange')\n"
     ]
    },
    {
     "ename": "TypeError",
     "evalue": "'tuple' object does not support item assignment",
     "output_type": "error",
     "traceback": [
      "\u001b[1;31m---------------------------------------------------------------------------\u001b[0m",
      "\u001b[1;31mTypeError\u001b[0m                                 Traceback (most recent call last)",
      "\u001b[1;32m<ipython-input-68-432526a7999b>\u001b[0m in \u001b[0;36m<module>\u001b[1;34m\u001b[0m\n\u001b[0;32m     10\u001b[0m \u001b[0mprint\u001b[0m\u001b[1;33m(\u001b[0m\u001b[0mtuple_1\u001b[0m\u001b[1;33m)\u001b[0m\u001b[1;33m\u001b[0m\u001b[1;33m\u001b[0m\u001b[0m\n\u001b[0;32m     11\u001b[0m \u001b[0mprint\u001b[0m\u001b[1;33m(\u001b[0m\u001b[0mtuple_2\u001b[0m\u001b[1;33m)\u001b[0m\u001b[1;33m\u001b[0m\u001b[1;33m\u001b[0m\u001b[0m\n\u001b[1;32m---> 12\u001b[1;33m \u001b[0mtuple_1\u001b[0m\u001b[1;33m[\u001b[0m\u001b[1;36m0\u001b[0m\u001b[1;33m]\u001b[0m\u001b[1;33m=\u001b[0m\u001b[1;34m'Pink'\u001b[0m\u001b[1;33m\u001b[0m\u001b[1;33m\u001b[0m\u001b[0m\n\u001b[0m\u001b[0;32m     13\u001b[0m \u001b[0mprint\u001b[0m\u001b[1;33m(\u001b[0m\u001b[0mtuple_1\u001b[0m\u001b[1;33m)\u001b[0m\u001b[1;33m\u001b[0m\u001b[1;33m\u001b[0m\u001b[0m\n",
      "\u001b[1;31mTypeError\u001b[0m: 'tuple' object does not support item assignment"
     ]
    }
   ],
   "source": [
    "colour_1 = ['red','black','blue','orange']\n",
    "colour_2=colour_1\n",
    "print(colour_1)\n",
    "print(colour_2)\n",
    "colour_1[0]='pink'\n",
    "print(colour_1)\n",
    "print(colour_2)\n",
    "tuple_1=('red','black','blue','orange')\n",
    "tuple_2=tuple_1\n",
    "print(tuple_1)\n",
    "print(tuple_2)\n",
    "tuple_1[0]='Pink'\n",
    "print(tuple_1)\n",
    "#error message shows tuple is immutable"
   ]
  },
  {
   "cell_type": "markdown",
   "metadata": {},
   "source": [
    "**SETS {} - unordered and also have no duplicates**"
   ]
  },
  {
   "cell_type": "code",
   "execution_count": 79,
   "metadata": {},
   "outputs": [
    {
     "name": "stdout",
     "output_type": "stream",
     "text": [
      "{'black', 'blue', 'orange', 'red'}\n",
      "{'black', 'blue', 'orange', 'red'}\n"
     ]
    }
   ],
   "source": [
    "#ouder of set gets changes for every execution\n",
    "colour_1 = {'red','black','blue','orange'}\n",
    "print(colour_1)\n",
    "#duplicates get removed automatically in sets\n",
    "colour_1 = {'red','black','blue','orange','red'}\n",
    "print(colour_1)"
   ]
  },
  {
   "cell_type": "code",
   "execution_count": 81,
   "metadata": {},
   "outputs": [
    {
     "name": "stdout",
     "output_type": "stream",
     "text": [
      "True\n"
     ]
    }
   ],
   "source": [
    "#membership test- sets tests effecticvely if a element is present or not, than list and tuples\n",
    "colour_1 = {'red','black','blue','orange'}\n",
    "print('red' in colour)"
   ]
  },
  {
   "cell_type": "code",
   "execution_count": 85,
   "metadata": {},
   "outputs": [
    {
     "name": "stdout",
     "output_type": "stream",
     "text": [
      "{'blue'}\n",
      "{'black', 'red'}\n",
      "{'green', 'pink'}\n",
      "{'black', 'green', 'red', 'blue', 'pink'}\n"
     ]
    }
   ],
   "source": [
    "#to find intersection, difference, union\n",
    "colour_1 = {'red','black','blue'}\n",
    "colour_2 = {'green','pink','blue'}\n",
    "print(colour_1.intersection(colour_2))\n",
    "print(colour_1.difference(colour_2))\n",
    "print(colour_2.difference(colour_1))\n",
    "print(colour_1.union(colour_2))\n",
    "            "
   ]
  },
  {
   "cell_type": "markdown",
   "metadata": {},
   "source": [
    "**To create empty list, set and tuples**"
   ]
  },
  {
   "cell_type": "code",
   "execution_count": null,
   "metadata": {},
   "outputs": [],
   "source": [
    "empty_list=[]\n",
    "empyt_set={}   --not right way as it is a dictionary\n",
    "empty_tuple=()\n",
    "\n",
    "#alternate optionnu \n",
    "empty_list=list()\n",
    "empyt_set=set()\n",
    "empty_tuple=tuple()\n"
   ]
  },
  {
   "cell_type": "markdown",
   "metadata": {},
   "source": [
    "## Quiz:Lesson 2: Lists"
   ]
  },
  {
   "cell_type": "markdown",
   "metadata": {},
   "source": [
    "**Q-1. What will be the output of the following code snippet?**"
   ]
  },
  {
   "cell_type": "code",
   "execution_count": 15,
   "metadata": {},
   "outputs": [
    {
     "name": "stdout",
     "output_type": "stream",
     "text": [
      "[1, 2, 3, 4, 5, 6, 7, 8, 9]\n",
      "[1, 3, 5, 7, 9]\n"
     ]
    }
   ],
   "source": [
    "a=[1,2,3,4,5,6,7,8,9]\n",
    "print(a[:])\n",
    "print(a[: : 2])"
   ]
  },
  {
   "cell_type": "code",
   "execution_count": 21,
   "metadata": {},
   "outputs": [
    {
     "data": {
      "text/plain": [
       "[1, 3, 5]"
      ]
     },
     "execution_count": 21,
     "metadata": {},
     "output_type": "execute_result"
    }
   ],
   "source": [
    "a[0:6:2]"
   ]
  },
  {
   "cell_type": "code",
   "execution_count": 11,
   "metadata": {},
   "outputs": [
    {
     "name": "stdout",
     "output_type": "stream",
     "text": [
      "6 7 8\n"
     ]
    }
   ],
   "source": [
    "[a,b,c]=6,7,8\n",
    "print(a,b,c)"
   ]
  },
  {
   "cell_type": "markdown",
   "metadata": {},
   "source": [
    "**Q-2. What will be the output of the following code snippet?**"
   ]
  },
  {
   "cell_type": "code",
   "execution_count": 13,
   "metadata": {},
   "outputs": [
    {
     "name": "stdout",
     "output_type": "stream",
     "text": [
      "[10, 2, 20, 4, 30, 6, 40, 8, 50]\n"
     ]
    }
   ],
   "source": [
    "a=[1,2,3,4,5,6,7,8,9]\n",
    "#skip index by count 2\n",
    "a[::2]=10,20,30,40,50\n",
    "print(a)\n",
    "\n"
   ]
  },
  {
   "cell_type": "code",
   "execution_count": null,
   "metadata": {},
   "outputs": [],
   "source": [
    "[1,3,5,7,9]=10,20,30,40,50,60\n",
    "# Above line says index 1 is replaced by 10\n",
    "10,2,20,4,30,6,40,8,50\n"
   ]
  },
  {
   "cell_type": "markdown",
   "metadata": {},
   "source": [
    "**Q-3. What will be the output of the following code snippet?**"
   ]
  },
  {
   "cell_type": "code",
   "execution_count": 23,
   "metadata": {},
   "outputs": [
    {
     "name": "stdout",
     "output_type": "stream",
     "text": [
      "[4]\n"
     ]
    }
   ],
   "source": [
    "a=[1,2,3,4,5]\n",
    "print(a[3:4])\n",
    "\n"
   ]
  },
  {
   "cell_type": "code",
   "execution_count": 24,
   "metadata": {},
   "outputs": [
    {
     "name": "stdout",
     "output_type": "stream",
     "text": [
      "[4, 3, 2]\n"
     ]
    }
   ],
   "source": [
    "a=[1,2,3,4,5]\n",
    "print(a[3:0:-1])"
   ]
  },
  {
   "cell_type": "markdown",
   "metadata": {},
   "source": [
    "**Q-4. What will be the output of the following code snippet?**"
   ]
  },
  {
   "cell_type": "code",
   "execution_count": 40,
   "metadata": {},
   "outputs": [
    {
     "name": "stdout",
     "output_type": "stream",
     "text": [
      "4\n",
      "[1, 2, 3]\n",
      "7\n",
      "[4, 5, 6]\n",
      "11\n",
      "[8, 9, 10]\n",
      "15\n",
      "[12, 13, 14]\n"
     ]
    }
   ],
   "source": [
    "arr = [[1, 2, 3, 4],\n",
    "       [4, 5, 6, 7],\n",
    "       [8, 9, 10, 11],\n",
    "       [12, 13, 14, 15]]\n",
    "for i in arr:\n",
    "    print(i.pop())\n",
    "    print(i)\n"
   ]
  },
  {
   "cell_type": "markdown",
   "metadata": {},
   "source": [
    "A. 1 2 3 4  \n",
    "B. 1 4 8 12  \n",
    "C. 4 7 11 15  \n",
    "D. 12,13,14,15  "
   ]
  },
  {
   "cell_type": "markdown",
   "metadata": {},
   "source": [
    "**Q5: Replace chemistry with history.**"
   ]
  },
  {
   "cell_type": "code",
   "execution_count": 47,
   "metadata": {},
   "outputs": [
    {
     "name": "stdout",
     "output_type": "stream",
     "text": [
      "['math', 'history', 'physics', 'comp sci']\n"
     ]
    }
   ],
   "source": [
    "course=['math','chemistry','physics','comp sci']\n",
    "for index, item in enumerate (course):\n",
    "    if item=='chemistry':\n",
    "        course[index]='history'\n",
    "print(course)\n",
    "\n"
   ]
  },
  {
   "cell_type": "markdown",
   "metadata": {},
   "source": [
    "**Q6:Add 'Art' after physics.**"
   ]
  },
  {
   "cell_type": "code",
   "execution_count": 46,
   "metadata": {},
   "outputs": [
    {
     "name": "stdout",
     "output_type": "stream",
     "text": [
      "['math', 'chemistry', 'physics', 'Art', 'comp sci']\n"
     ]
    }
   ],
   "source": [
    "course=['math','chemistry','physics','comp sci']\n",
    "course.insert(3,'Art')\n",
    "print(course)"
   ]
  },
  {
   "cell_type": "markdown",
   "metadata": {},
   "source": [
    "**Q7:create an empty list and append numbers 1 to 10 to it. Merge the list with course list.**"
   ]
  },
  {
   "cell_type": "code",
   "execution_count": 54,
   "metadata": {},
   "outputs": [
    {
     "name": "stdout",
     "output_type": "stream",
     "text": [
      "[1, 2, 3, 4, 5, 6, 7, 8, 9, 10]\n",
      "['math', 'chemistry', 'physics', 'comp sci', 1, 2, 3, 4, 5, 6, 7, 8, 9, 10]\n"
     ]
    }
   ],
   "source": [
    "course=['math','chemistry','physics','comp sci']\n",
    "num=[]\n",
    "for i in range (1,11):\n",
    "    num.append(i)\n",
    "print(num)\n",
    "course.extend(num)\n",
    "print(course)\n",
    "    "
   ]
  },
  {
   "cell_type": "markdown",
   "metadata": {},
   "source": [
    "**Q4: Sort the given list and remove the items that is divisble by 2**"
   ]
  },
  {
   "cell_type": "code",
   "execution_count": 74,
   "metadata": {},
   "outputs": [
    {
     "name": "stdout",
     "output_type": "stream",
     "text": [
      "[5, 3, 43, 53, 22, 74, 332, 56, 21, 674, 23, 67, 88, 32, 34, 321, 683, 46]\n",
      "[683, 674, 332, 321, 88, 74, 67, 56, 53, 46, 43, 34, 32, 23, 22, 21, 5, 3]\n",
      "1\n",
      "0\n",
      "1\n",
      "0\n",
      "1\n",
      "0\n",
      "0\n",
      "0\n",
      "1\n",
      "0\n",
      "1\n",
      "1\n",
      "[683, 332, 321, 74, 67, 53, 43, 32, 23, 21, 5, 3]\n"
     ]
    }
   ],
   "source": [
    "number=[5,3,43,53,22,74,332,56,21,674,23,67,88,32,34,321,683,46]\n",
    "number_1=sorted (number, reverse= True)\n",
    "print(number)\n",
    "print(number_1)\n",
    "for item in number_1:\n",
    "    print(item%2)\n",
    "    if item%2 == 0:\n",
    "        number_1.remove(item)\n",
    "       \n",
    "print(number_1)\n",
    "\n",
    "\n"
   ]
  },
  {
   "cell_type": "markdown",
   "metadata": {},
   "source": [
    "**Q5: What is difference between using Sort and Sorted?**"
   ]
  },
  {
   "cell_type": "code",
   "execution_count": 76,
   "metadata": {},
   "outputs": [
    {
     "name": "stdout",
     "output_type": "stream",
     "text": [
      "['math', 'chemistry', 'physics', 'comp sci']\n",
      "['chemistry', 'comp sci', 'math', 'physics']\n"
     ]
    }
   ],
   "source": [
    "course=['math','chemistry','physics','comp sci']\n",
    "print(course)\n",
    "course_1=sorted(course)\n",
    "print(course_1)"
   ]
  },
  {
   "cell_type": "markdown",
   "metadata": {},
   "source": [
    "**Q6: find the index of the elements that starts with 'c'.**"
   ]
  },
  {
   "cell_type": "code",
   "execution_count": 77,
   "metadata": {},
   "outputs": [
    {
     "name": "stdout",
     "output_type": "stream",
     "text": [
      "1 chemistry\n",
      "3 comp sci\n"
     ]
    }
   ],
   "source": [
    "course=['math','chemistry','physics','comp sci']\n",
    "for index, item in enumerate (course):\n",
    "    if item[0]=='c':\n",
    "        print (index, item)\n"
   ]
  },
  {
   "cell_type": "code",
   "execution_count": null,
   "metadata": {},
   "outputs": [],
   "source": []
  }
 ],
 "metadata": {
  "kernelspec": {
   "display_name": "Python 3",
   "language": "python",
   "name": "python3"
  },
  "language_info": {
   "codemirror_mode": {
    "name": "ipython",
    "version": 3
   },
   "file_extension": ".py",
   "mimetype": "text/x-python",
   "name": "python",
   "nbconvert_exporter": "python",
   "pygments_lexer": "ipython3",
   "version": "3.7.6"
  }
 },
 "nbformat": 4,
 "nbformat_minor": 4
}
